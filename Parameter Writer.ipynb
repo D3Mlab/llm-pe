{
 "cells": [
  {
   "cell_type": "code",
   "execution_count": 1,
   "id": "73340ea9",
   "metadata": {},
   "outputs": [],
   "source": [
    "import os\n",
    "import yaml\n",
    "from itertools import product"
   ]
  },
  {
   "cell_type": "code",
   "execution_count": 2,
   "id": "2676b819",
   "metadata": {},
   "outputs": [],
   "source": [
    "BASE_CONFIG_PATH = 'configs/mini_movies_config.yaml'"
   ]
  },
  {
   "cell_type": "code",
   "execution_count": 23,
   "id": "b7fa4344-fd81-4a83-ae8f-d8a7cdf918db",
   "metadata": {},
   "outputs": [],
   "source": [
    "BASE_CONFIG_PATH = 'experiments/jan_16_value_query_ucb20/config.yaml'"
   ]
  },
  {
   "cell_type": "code",
   "execution_count": 24,
   "id": "080e87d1",
   "metadata": {},
   "outputs": [],
   "source": [
    "def deep_update(original, update):\n",
    "    \"\"\"Deep update original dict with values from the update dict.\"\"\"\n",
    "    for key, value in update.items():\n",
    "        if isinstance(value, dict):\n",
    "            original[key] = deep_update(original.get(key, {}), value)\n",
    "        else:\n",
    "            original[key] = value\n",
    "    return original\n",
    "\n",
    "def save_config(config, directory, experiment_name):\n",
    "    full_path = os.path.join(directory, experiment_name)\n",
    "    os.makedirs(full_path, exist_ok=True)\n",
    "    with open(os.path.join(full_path, \"config.yaml\"), 'w') as f:\n",
    "        yaml.dump(config, f)\n"
   ]
  },
  {
   "cell_type": "code",
   "execution_count": 25,
   "id": "7ddffaa9",
   "metadata": {},
   "outputs": [],
   "source": [
    "def generate_experiment_name(params):\n",
    "    # Convert each parameter to a string of the form \"paramName_paramValue\"\n",
    "    # and join them all with underscores\n",
    "    return \"_\".join([f\"{param}_{value}\" for param, value in params.items()])"
   ]
  },
  {
   "cell_type": "code",
   "execution_count": 26,
   "id": "9abeab8a",
   "metadata": {},
   "outputs": [],
   "source": [
    "def save_base_config(base_config, experiment_set):\n",
    "    # Update the master_path and dir keys\n",
    "    base_config['paths']['eval_results_master_path'] = f\"experiments/{experiment_set}/eval_results.csv\"\n",
    "    base_config['paths']['experiment_dir'] = f\"experiments/{experiment_set}\"\n",
    "    \n",
    "    # Write the updated base config to the experiment set directory\n",
    "    with open(f\"experiments/{experiment_set}/config.yaml\", 'w') as f:\n",
    "        yaml.dump(base_config, f)\n"
   ]
  },
  {
   "cell_type": "code",
   "execution_count": 31,
   "id": "b5aecf0f",
   "metadata": {},
   "outputs": [],
   "source": [
    "# Define the mapping from parameter values to specific config changes\n",
    "value_mapping = {\n",
    "        'data': {\n",
    "            'shapes': {'data': {'data_path': 'data/shapes.json'}},\n",
    "            'movies_old': {'data': {'data_path': 'data/movielens_16.json'}},\n",
    "            'clothing': {'data': {'data_path': 'data/clothing.json'}},\n",
    "            'movies_old_subset': {'data': {'data_path': 'data/movielens_16_trimmed.json'}},\n",
    "            'movies_16': {'data': {'data_path': 'data/ml25M_16_movie_sample.json'}},\n",
    "            'movies_100': {'data': {'data_path': 'data/ml25M_100_movie_sample.json'}},\n",
    "            'movies_50': {'data': {'data_path': 'data/ml25M_50_movie_sample.json'}}\n",
    "        },\n",
    "        'usr': {\n",
    "            'shapes': {'data': {'user_path': 'data/users/shapes_qrel.tsv'}},\n",
    "            'movies': {'data': {'user_path': 'data/users/movielens_16_qrel.tsv'}},\n",
    "            'clothing': {'data': {'user_path': 'data/users/clothing_qrel.tsv'}},\n",
    "            'movies_16_5': {'data': {'user_path': 'data/users/movielens_16_5_users.tsv'}},\n",
    "            'movies_100_3': {'data': {'user_path': 'data/users/movielens_100_3_users.tsv'}},\n",
    "            'movies_100_5': {'data': {'user_path': 'data/users/movielens_100_5_users.tsv'}},\n",
    "            'movies_100_50': {'data': {'user_path': 'data/users/movielens_100_50_users.tsv'}},\n",
    "            'movies_50_50': {'data': {'user_path': 'data/users/movielens_50_50_users.tsv'}}\n",
    "        },\n",
    "        'turns': {\n",
    "            3: {'dialogue_sim': {'num_turns': 3}},\n",
    "            5: {'dialogue_sim': {'num_turns': 5}},\n",
    "            10: {'dialogue_sim': {'num_turns': 10}},\n",
    "            15: {'dialogue_sim': {'num_turns': 15}},\n",
    "            20: {'dialogue_sim': {'num_turns': 20}}\n",
    "        },\n",
    "        'llm_temp': {\n",
    "            0: {'llm': {'temperature': 0}},\n",
    "            1: {'llm': {'temperature': 1}},\n",
    "        },\n",
    "        'pe': {\n",
    "            'DT': {'pe': {'pe_module_name': 'DT'}},\n",
    "            'MonoLLM': {'pe': {'pe_module_name': 'MonoLLM'}},\n",
    "        },\n",
    "        'resp_upd': {\n",
    "            'individ': {'pe': {'response_update': 'individual'}},\n",
    "            'concat': {'pe': {'response_update': 'concat'}},\n",
    "        },\n",
    "        'n_rec': {\n",
    "            1: {'pe': {'num_recs': 1}},\n",
    "            5: {'pe': {'num_recs': 5}},\n",
    "            10: {'pe': {'num_recs': 10}},\n",
    "            20: {'pe': {'num_recs': 20}}\n",
    "        },\n",
    "        'selction': {\n",
    "            'greedy': {'query': {'item_selection': 'greedy'}},\n",
    "            'random': {'query': {'item_selection': 'random'}},\n",
    "            'entropy_reduction': {'query': {'item_selection': 'entropy_reduction'}},\n",
    "            'ucb': {'query': {'item_selection': 'ucb'}},\n",
    "            'thompson': {'query': {'item_selection': 'thompson'}},\n",
    "        },        \n",
    "        'preproc': {\n",
    "            'aspect_value': {'item_scoring': {'history_preprocessor_name': 'AspectValuePreprocessor'}},\n",
    "            'aspect_key_value': {'item_scoring': {'history_preprocessor_name': 'AspectKVPreprocessor'}},\n",
    "            'concat': {'item_scoring': {'history_preprocessor_name': 'HistoryConcatenator'}},\n",
    "        },\n",
    "        'scorer': {\n",
    "            'mnli': {'item_scoring': {'item_scorer_name': 'MNLIScorer'}},\n",
    "            'ce': {'item_scoring': {'item_scorer_name': 'CEScorer'}},\n",
    "        },\n",
    "        'mnli_temp': {\n",
    "            1: {'item_scoring': {'mnli_temp': 1}},\n",
    "            2: {'item_scoring': {'mnli_temp': 2}},\n",
    "            4: {'item_scoring': {'mnli_temp': 4}},\n",
    "            5: {'item_scoring': {'mnli_temp': 5}},\n",
    "            10: {'item_scoring': {'mnli_temp': 10}},\n",
    "            20: {'item_scoring': {'mnli_temp': 20}},\n",
    "            50: {'item_scoring': {'mnli_temp': 50}},\n",
    "            100: {'item_scoring': {'mnli_temp': 100}},\n",
    "        },\n",
    "        'llm': {\n",
    "            '1106': {'llm': {'model': \"gpt-3.5-turbo-1106\",\n",
    "                            'llm_name': 'GPTChatCompletion'}},\n",
    "            '613': {'llm': {'model': \"gpt-3.5-turbo-613\",\n",
    "                            'llm_name': 'GPTChatCompletion'}},\n",
    "            'turbo-instruct': {'llm': {'model': \"gpt-3.5-turbo-instruct\",\n",
    "                                       'llm_name': 'GPTCompletion'}},\n",
    "        },\n",
    "        'asp_prpt': {\n",
    "            'davidFS2_kv': {'query': {'aspect_gen_template': \"pointwise_aspect_kv_generation.jinja2\", 'aspect_extraction':'key_val'}\n",
    "            },'antonFS3_kv':{'query': {'aspect_gen_template': \"pointwise_aspect_kv_generation_movies_3FS.jinja2\", 'aspect_extraction':'key_val'}\n",
    "            },'FS3_v':{'query': {'aspect_gen_template': \"pointwise_aspect_v_generation_movies_3FS_3words.jinja2\", 'aspect_extraction':'val'}\n",
    "            }\n",
    "        },\n",
    "        'noise': {\n",
    "            0: {'dialogue_sim' : {'response_noise': 0}},\n",
    "            0.1: {'dialogue_sim' : {'response_noise': 0.1}},\n",
    "            0.25: {'dialogue_sim' : {'response_noise': 0.25}},\n",
    "            0.5: {'dialogue_sim' : {'response_noise': 0.5}},\n",
    "        },\n",
    "        'qry_prpt' : {\n",
    "            'kv': {'query': {'query_gen_template': \"pointwise_query_generation.jinja2\"}},\n",
    "            'v': {'query': {'query_gen_template': \"pointwise_query_generation_v.jinja2\"}}\n",
    "        }\n",
    "}"
   ]
  },
  {
   "cell_type": "code",
   "execution_count": 32,
   "id": "9e6c04d9",
   "metadata": {},
   "outputs": [],
   "source": [
    "# Define the parameter grid\n",
    "param_grid = {\n",
    "        #'data': ['movies_16'],\n",
    "        #'usr': ['movies_16_5'],\n",
    "        #'turns': [10],\n",
    "        'llm_temp': [0,1],\n",
    "        'qry_prpt': ['kv','v']\n",
    "        #'pe': ['DT'],\n",
    "        #'resp_upd': ['individ'],\n",
    "        #'n_rec': [10],\n",
    "        # 'noise': [0, 0.1, 0.25, 0.5],\n",
    "        #'selection': ['ucb'], #['greedy','ucb','random','entropy_reduction'],\n",
    "        #'preproc': ['aspect_value'],\n",
    "        #'scorer': ['mnli'],\n",
    "        #'mnli_temp': [1, 20],\n",
    "        # 'asp_prpt': ['davidFS2_kv'] #['davidFS2_kv','antonFS3_kv','FS3_v']\n",
    "        #'llm': ['turbo'] # 'turbo' 'turbo-instruct'\n",
    "    }\n",
    "\n",
    "# NOTE: Current eval_manager can't handle multiple user ground truth files\n"
   ]
  },
  {
   "cell_type": "code",
   "execution_count": 33,
   "id": "26fe1e63",
   "metadata": {},
   "outputs": [],
   "source": [
    "#experiment set name:\n",
    "experiment_set = f'jan_16_value_query_ucb20'"
   ]
  },
  {
   "cell_type": "code",
   "execution_count": 34,
   "id": "e42f6f71",
   "metadata": {
    "scrolled": true
   },
   "outputs": [],
   "source": [
    "\n",
    "# Load the base config file\n",
    "with open(BASE_CONFIG_PATH, 'r') as f:\n",
    "    base_config = yaml.safe_load(f)\n",
    "\n",
    "# Generate and save config files for each combination\n",
    "for idx, param_values in enumerate(product(*param_grid.values())):\n",
    "        param_values_dict = dict(zip(param_grid.keys(), param_values))\n",
    "        #print(param_values_dict)\n",
    "        experiment_name = generate_experiment_name(param_values_dict)\n",
    "        updated_config = yaml.safe_load(yaml.dump(base_config))  # deep copy\n",
    "\n",
    "        # Apply updates to the config based on the current parameter values\n",
    "        for param, value in param_values_dict.items():\n",
    "            if param in value_mapping and value in value_mapping[param]:\n",
    "                deep_update(updated_config, value_mapping[param][value])\n",
    "            else:\n",
    "                print(f\"No mapping found for parameter '{param}' with value '{value}'\")\n",
    "\n",
    "        # Add logging file\n",
    "        updated_config['logging']['log_file'] = os.path.join(f'experiments/{experiment_set}', experiment_name, \"output.log\")\n",
    "\n",
    "        save_config(updated_config, f'experiments/{experiment_set}', experiment_name)\n",
    "\n",
    "# Create a copy of param_grid with only the single item lists and do a deep update\n",
    "new_base_config = yaml.safe_load(yaml.dump(base_config))  # deep copy\n",
    "for param_key, param_value in param_grid.items():\n",
    "    if len(param_value) == 1: # If there is only a single value for this param, change the base config to have it\n",
    "        if param in value_mapping and value in value_mapping[param]:\n",
    "            deep_update(new_base_config, value_mapping[param_key][param_value[0]])\n",
    "         \n",
    "\n",
    "#saves base config for evaluation purposes        \n",
    "save_base_config(new_base_config, experiment_set)"
   ]
  },
  {
   "cell_type": "code",
   "execution_count": 35,
   "id": "00a60834",
   "metadata": {},
   "outputs": [
    {
     "data": {
      "text/plain": [
       "4"
      ]
     },
     "execution_count": 35,
     "metadata": {},
     "output_type": "execute_result"
    }
   ],
   "source": [
    "len(list(product(*param_grid.values())))"
   ]
  }
 ],
 "metadata": {
  "kernelspec": {
   "display_name": "Python 3 (ipykernel)",
   "language": "python",
   "name": "python3"
  },
  "language_info": {
   "codemirror_mode": {
    "name": "ipython",
    "version": 3
   },
   "file_extension": ".py",
   "mimetype": "text/x-python",
   "name": "python",
   "nbconvert_exporter": "python",
   "pygments_lexer": "ipython3",
   "version": "3.10.11"
  }
 },
 "nbformat": 4,
 "nbformat_minor": 5
}
