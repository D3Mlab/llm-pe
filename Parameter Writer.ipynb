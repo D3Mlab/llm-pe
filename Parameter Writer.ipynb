{
 "cells": [
  {
   "cell_type": "code",
   "execution_count": 15,
   "id": "73340ea9",
   "metadata": {},
   "outputs": [],
   "source": [
    "import os\n",
    "import yaml\n",
    "from itertools import product"
   ]
  },
  {
   "cell_type": "code",
   "execution_count": 16,
   "id": "2676b819",
   "metadata": {},
   "outputs": [],
   "source": [
    "BASE_CONFIG_PATH = 'configs/movies_config.yaml'"
   ]
  },
  {
   "cell_type": "code",
   "execution_count": 3,
   "id": "080e87d1",
   "metadata": {},
   "outputs": [],
   "source": [
    "def deep_update(original, update):\n",
    "    \"\"\"Deep update original dict with values from the update dict.\"\"\"\n",
    "    for key, value in update.items():\n",
    "        if isinstance(value, dict):\n",
    "            original[key] = deep_update(original.get(key, {}), value)\n",
    "        else:\n",
    "            original[key] = value\n",
    "    return original\n",
    "\n",
    "def save_config(config, directory, experiment_name):\n",
    "    full_path = os.path.join(directory, experiment_name)\n",
    "    os.makedirs(full_path, exist_ok=True)\n",
    "    with open(os.path.join(full_path, \"config.yaml\"), 'w') as f:\n",
    "        yaml.dump(config, f)\n"
   ]
  },
  {
   "cell_type": "code",
   "execution_count": 4,
   "id": "7ddffaa9",
   "metadata": {},
   "outputs": [],
   "source": [
    "def generate_experiment_name(params):\n",
    "    # Convert each parameter to a string of the form \"paramName_paramValue\"\n",
    "    # and join them all with underscores\n",
    "    return \"_\".join([f\"{param}_{value}\" for param, value in params.items()])"
   ]
  },
  {
   "cell_type": "code",
   "execution_count": 5,
   "id": "9abeab8a",
   "metadata": {},
   "outputs": [],
   "source": [
    "def save_base_config(base_config, experiment_set):\n",
    "    # Update the master_path and dir keys\n",
    "    base_config['paths']['eval_results_master_path'] = f\"experiments/{experiment_set}/eval_results.csv\"\n",
    "    base_config['paths']['experiment_dir'] = f\"experiments/{experiment_set}\"\n",
    "    \n",
    "    # Write the updated base config to the experiment set directory\n",
    "    with open(f\"experiments/{experiment_set}/config.yaml\", 'w') as f:\n",
    "        yaml.dump(base_config, f)\n"
   ]
  },
  {
   "cell_type": "code",
   "execution_count": 17,
   "id": "b5aecf0f",
   "metadata": {},
   "outputs": [],
   "source": [
    "# Define the mapping from parameter values to specific config changes\n",
    "value_mapping = {\n",
    "        'data': {\n",
    "            'shapes': {'data': {'data_path': 'data/shapes.json'}},\n",
    "            'movies': {'data': {'data_path': 'data/movielens_16.json'}},\n",
    "            'clothing': {'data': {'data_path': 'data/clothing.json'}},\n",
    "            'movies_subset': {'data': {'data_path': 'data/movielens_16_trimmed.json'}},\n",
    "            'movies_100': {'data': {'data_path': 'data/ml25M_100_movie_sample.json'}},\n",
    "        },\n",
    "        'users': {\n",
    "            'shapes': {'data': {'user_path': 'data/users/shapes_qrel.tsv'}},\n",
    "            'movies': {'data': {'user_path': 'data/users/movielens_16_qrel.tsv'}},\n",
    "            'clothing': {'data': {'user_path': 'data/users/clothing_qrel.tsv'}},\n",
    "            'movies_subset': {'data': {'user_path': 'data/users/movielens_16_qrel_trimmed.tsv'}},\n",
    "            'movies_5': {'data': {'user_path': 'data/users/movielens_5_users.tsv'}},\n",
    "        },\n",
    "        'num_turns': {\n",
    "            3: {'dialogue_sim': {'num_turns': 3}},\n",
    "            5: {'dialogue_sim': {'num_turns': 5}},\n",
    "            10: {'dialogue_sim': {'num_turns': 10}},\n",
    "            15: {'dialogue_sim': {'num_turns': 15}},\n",
    "            20: {'dialogue_sim': {'num_turns': 20}}\n",
    "        },\n",
    "        'temperature': {\n",
    "            0: {'llm': {'temperature': 0}},\n",
    "            1: {'llm': {'temperature': 1}},\n",
    "        },\n",
    "        'pe_module': {\n",
    "            'DT': {'pe': {'pe_module_name': 'DT'}},\n",
    "            'MonoLLM': {'pe': {'pe_module_name': 'MonoLLM'}},\n",
    "        },\n",
    "        'response_update': {\n",
    "            'individual': {'pe': {'response_update': 'individual'}},\n",
    "            'concat': {'pe': {'response_update': 'concat'}},\n",
    "        },\n",
    "        'num_recs': {\n",
    "            1: {'pe': {'num_recs': 1}},\n",
    "            5: {'pe': {'num_recs': 5}},\n",
    "            10: {'pe': {'num_recs': 10}},\n",
    "        },\n",
    "        'item_selection': {\n",
    "            'greedy': {'query': {'item_selection': 'greedy'}},\n",
    "            'random': {'query': {'item_selection': 'random'}},\n",
    "            'entropy_reduction': {'query': {'item_selection': 'entropy_reduction'}},\n",
    "            'ucb': {'query': {'item_selection': 'ucb'}},\n",
    "            'thompson': {'query': {'item_selection': 'thompson'}},\n",
    "        },        \n",
    "        'preprocessing': {\n",
    "            'aspect_value': {'item_scoring': {'history_preprocessor_name': 'AspectValuePreprocessor'}},\n",
    "            'aspect_key_value': {'item_scoring': {'history_preprocessor_name': 'AspectKVPreprocessor'}},\n",
    "            'concat': {'item_scoring': {'history_preprocessor_name': 'HistoryConcatenator'}},\n",
    "        },\n",
    "        'scorer': {\n",
    "            'mnli': {'item_scoring': {'item_scorer_name': 'MNLIScorer'}},\n",
    "            'ce': {'item_scoring': {'item_scorer_name': 'CEScorer'}},\n",
    "        }\n",
    "}"
   ]
  },
  {
   "cell_type": "code",
   "execution_count": 18,
   "id": "9e6c04d9",
   "metadata": {},
   "outputs": [],
   "source": [
    "# Define the parameter grid\n",
    "param_grid = {\n",
    "        'data': ['movies_100'],\n",
    "        'users': ['movies_5'],\n",
    "        'num_turns': [10],\n",
    "        'temperature': [0],\n",
    "        'pe_module': ['DT'],\n",
    "        'response_update': ['individual'],\n",
    "        'num_recs': [10],\n",
    "        'item_selection': ['greedy', 'random', 'entropy_reduction', 'ucb'],\n",
    "        'preprocessing': ['aspect_key_value'],\n",
    "        'scorer': ['mnli'],\n",
    "    }\n",
    "\n",
    "# NOTE: Current eval_manager can't handle multiple user ground truth files\n"
   ]
  },
  {
   "cell_type": "code",
   "execution_count": 19,
   "id": "26fe1e63",
   "metadata": {},
   "outputs": [],
   "source": [
    "#experiment set name:\n",
    "experiment_set = f'movies_100_dt_methods'"
   ]
  },
  {
   "cell_type": "code",
   "execution_count": 20,
   "id": "e42f6f71",
   "metadata": {},
   "outputs": [],
   "source": [
    "\n",
    "# Load the base config file\n",
    "with open(BASE_CONFIG_PATH, 'r') as f:\n",
    "    base_config = yaml.safe_load(f)\n",
    "\n",
    "# Generate and save config files for each combination\n",
    "for idx, param_values in enumerate(product(*param_grid.values())):\n",
    "        param_values_dict = dict(zip(param_grid.keys(), param_values))\n",
    "        #print(param_values_dict)\n",
    "        experiment_name = generate_experiment_name(param_values_dict)\n",
    "        updated_config = yaml.safe_load(yaml.dump(base_config))  # deep copy\n",
    "\n",
    "\n",
    "        # Apply updates to the config based on the current parameter values\n",
    "        for param, value in param_values_dict.items():\n",
    "            if param in value_mapping and value in value_mapping[param]:\n",
    "                deep_update(updated_config, value_mapping[param][value])\n",
    "            else:\n",
    "                print(f\"No mapping found for parameter '{param}' with value '{value}'\")\n",
    "\n",
    "        save_config(updated_config, f'experiments/{experiment_set}', experiment_name)\n",
    "\n",
    "#saves base config for evaluation purposes        \n",
    "save_base_config(base_config, experiment_set)"
   ]
  },
  {
   "cell_type": "code",
   "execution_count": 21,
   "id": "00a60834",
   "metadata": {},
   "outputs": [
    {
     "data": {
      "text/plain": [
       "4"
      ]
     },
     "execution_count": 21,
     "metadata": {},
     "output_type": "execute_result"
    }
   ],
   "source": [
    "len(list(product(*param_grid.values())))"
   ]
  }
 ],
 "metadata": {
  "kernelspec": {
   "display_name": "Python 3 (ipykernel)",
   "language": "python",
   "name": "python3"
  },
  "language_info": {
   "codemirror_mode": {
    "name": "ipython",
    "version": 3
   },
   "file_extension": ".py",
   "mimetype": "text/x-python",
   "name": "python",
   "nbconvert_exporter": "python",
   "pygments_lexer": "ipython3",
   "version": "3.9.18"
  }
 },
 "nbformat": 4,
 "nbformat_minor": 5
}
