{
 "cells": [
  {
   "cell_type": "code",
   "execution_count": 4,
   "id": "b34a69d6",
   "metadata": {},
   "outputs": [],
   "source": [
    "import os\n",
    "from users.base_user import UserSim\n",
    "from users.llm_user import LLMUserSim\n",
    "from dialogue_sim import DialogueSimulator\n",
    "import pe_modules\n",
    "import users\n",
    "import dataloaders\n",
    "import llms\n",
    "import jinja2\n",
    "import argparse\n",
    "import yaml\n",
    "import json"
   ]
  },
  {
   "cell_type": "markdown",
   "id": "56311461",
   "metadata": {},
   "source": [
    "# Get Item Data"
   ]
  },
  {
   "cell_type": "markdown",
   "id": "d26db72b",
   "metadata": {},
   "source": [
    "### Shapes:\n",
    "All 8 combinations of {red,blue},{large,small},{circle,triangle}"
   ]
  },
  {
   "cell_type": "code",
   "execution_count": 25,
   "id": "7e07e0fa",
   "metadata": {
    "scrolled": true
   },
   "outputs": [
    {
     "data": {
      "text/plain": [
       "{'0': {'name': 'Red Large Circle', 'description': 'Red Large Circle'},\n",
       " '1': {'name': 'Red Large Triangle', 'description': 'Red Large Triangle'},\n",
       " '2': {'name': 'Red Small Circle', 'description': 'Red Small Circle'},\n",
       " '3': {'name': 'Red Small Triangle', 'description': 'Red Small Triangle'},\n",
       " '4': {'name': 'Blue Large Circle', 'description': 'Blue Large Circle'},\n",
       " '5': {'name': 'Blue Large Triangle', 'description': 'Blue Large Triangle'},\n",
       " '6': {'name': 'Blue Small Triangle', 'description': 'Blue Small Triangle'},\n",
       " '7': {'name': 'Blue Small Triangle', 'description': 'Blue Small Triangle'}}"
      ]
     },
     "execution_count": 25,
     "metadata": {},
     "output_type": "execute_result"
    }
   ],
   "source": [
    "with open('data/shapes.json') as f:\n",
    "    shapes = json.load(f)\n",
    "shapes"
   ]
  },
  {
   "cell_type": "markdown",
   "id": "36347627",
   "metadata": {},
   "source": [
    "### Clothing\n",
    "\n",
    "all 8 combinations of {Men's, Women's}, {Black, Red}, {Shoes,T-Shirt}"
   ]
  },
  {
   "cell_type": "code",
   "execution_count": 32,
   "id": "8a20953d",
   "metadata": {
    "scrolled": false
   },
   "outputs": [
    {
     "data": {
      "text/plain": [
       "{'0': {'name': \"Men's Black Shoes\", 'description': \"Men's Black Shoes\"},\n",
       " '1': {'name': \"Men's Black T-Shirt\", 'description': \"Men's Black T-Shirt\"},\n",
       " '2': {'name': \"Men's Red Shoes\", 'description': \"Men's Red Shoes\"},\n",
       " '3': {'name': \"Men's Red T-Shirt\", 'description': \"Men's Red T-Shirt\"},\n",
       " '4': {'name': \"Women's Black Shoes\", 'description': \"Women's Black Shoes\"},\n",
       " '5': {'name': \"Women's Black T-Shirt\",\n",
       "  'description': \"Women's Black T-Shirt\"},\n",
       " '6': {'name': \"Women's Red Shoes\", 'description': \"Women's Red Shoes\"},\n",
       " '7': {'name': \"Women's Red T-Shirt\", 'description': \"Women's Red T-Shirt\"}}"
      ]
     },
     "execution_count": 32,
     "metadata": {},
     "output_type": "execute_result"
    }
   ],
   "source": [
    "with open('data/clothing.json') as f:\n",
    "    clothing = json.load(f)\n",
    "clothing"
   ]
  },
  {
   "cell_type": "markdown",
   "id": "fcee7a57",
   "metadata": {},
   "source": [
    "# Get queries"
   ]
  },
  {
   "cell_type": "code",
   "execution_count": 34,
   "id": "7c4cb43c",
   "metadata": {},
   "outputs": [],
   "source": [
    "easy_single_aspect_shape_queries = ['red','blue','large','small','circle','triangle']\n",
    "easy_single_aspect_clothing_queries = ['men\\'s','women\\'s','red','blue','shoes','t-shirt']"
   ]
  },
  {
   "cell_type": "markdown",
   "id": "b43bdee4",
   "metadata": {},
   "source": [
    "# Entailement Code\n",
    "TODO: Move to ItemScorer classes"
   ]
  },
  {
   "cell_type": "code",
   "execution_count": null,
   "id": "779be467",
   "metadata": {},
   "outputs": [],
   "source": []
  },
  {
   "cell_type": "markdown",
   "id": "e0e68670",
   "metadata": {},
   "source": [
    "#### Sentence-Transformer Cross Encoder"
   ]
  },
  {
   "cell_type": "code",
   "execution_count": 41,
   "id": "b01361ce",
   "metadata": {},
   "outputs": [],
   "source": [
    "import torch\n",
    "from sentence_transformers import CrossEncoder\n",
    "model = CrossEncoder('cross-encoder/ms-marco-MiniLM-L-12-v2')"
   ]
  },
  {
   "cell_type": "code",
   "execution_count": 62,
   "id": "56145a47",
   "metadata": {},
   "outputs": [],
   "source": [
    "test_CE_input =  [('Blue', 'Light Blue'), ('Blue', 'Red')]"
   ]
  },
  {
   "cell_type": "code",
   "execution_count": 68,
   "id": "b9ce1bb9",
   "metadata": {},
   "outputs": [],
   "source": [
    "output = model.predict(\n",
    "            test_CE_input\n",
    "        )"
   ]
  },
  {
   "cell_type": "code",
   "execution_count": 69,
   "id": "3aa4880d",
   "metadata": {},
   "outputs": [
    {
     "data": {
      "text/plain": [
       "tensor([9.8963e-01, 3.9650e-04])"
      ]
     },
     "execution_count": 69,
     "metadata": {},
     "output_type": "execute_result"
    }
   ],
   "source": [
    "torch.sigmoid(torch.from_numpy(output))"
   ]
  }
 ],
 "metadata": {
  "kernelspec": {
   "display_name": "Python 3 (ipykernel)",
   "language": "python",
   "name": "python3"
  },
  "language_info": {
   "codemirror_mode": {
    "name": "ipython",
    "version": 3
   },
   "file_extension": ".py",
   "mimetype": "text/x-python",
   "name": "python",
   "nbconvert_exporter": "python",
   "pygments_lexer": "ipython3",
   "version": "3.9.16"
  }
 },
 "nbformat": 4,
 "nbformat_minor": 5
}
