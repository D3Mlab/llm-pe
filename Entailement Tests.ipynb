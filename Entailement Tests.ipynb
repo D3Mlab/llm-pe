{
 "cells": [
  {
   "cell_type": "code",
   "execution_count": 4,
   "id": "cf26bb14",
   "metadata": {},
   "outputs": [],
   "source": [
    "import os\n",
    "from users.base_user import UserSim\n",
    "from users.llm_user import LLMUserSim\n",
    "from dialogue_sim import DialogueSimulator\n",
    "import pe_modules\n",
    "import users\n",
    "import dataloaders\n",
    "import llms\n",
    "import jinja2\n",
    "import argparse\n",
    "import yaml\n",
    "import json"
   ]
  },
  {
   "cell_type": "code",
   "execution_count": 15,
   "id": "24c5189b",
   "metadata": {},
   "outputs": [],
   "source": [
    "#Read data"
   ]
  },
  {
   "cell_type": "markdown",
   "id": "b906b051",
   "metadata": {},
   "source": [
    "###Shapes:\n",
    "All combinations of Color"
   ]
  },
  {
   "cell_type": "code",
   "execution_count": 19,
   "id": "44b65fab",
   "metadata": {},
   "outputs": [],
   "source": [
    "#shapes\n",
    "with open('data/shapes.json') as f:\n",
    "    shapes = json.load(f)  "
   ]
  },
  {
   "cell_type": "code",
   "execution_count": 20,
   "id": "1f2a0e31",
   "metadata": {},
   "outputs": [
    {
     "data": {
      "text/plain": [
       "{'0': {'name': '0', 'description': 'Colour: Red, Size: Large, Shape: Circle'},\n",
       " '1': {'name': '1',\n",
       "  'description': 'Colour: Red, Size: Large, Shape: Triangle'},\n",
       " '2': {'name': '2', 'description': 'Colour: Red, Size: Small, Shape: Circle'},\n",
       " '3': {'name': '3',\n",
       "  'description': 'Colour: Red, Size: Small, Shape: Triangle'},\n",
       " '4': {'name': '4', 'description': 'Colour: Blue, Size: Large, Shape: Circle'},\n",
       " '5': {'name': '5',\n",
       "  'description': 'Colour: Blue, Size: Large, Shape: Triangle'},\n",
       " '6': {'name': '6',\n",
       "  'description': 'Colour: Blue, Size: Small, Shape: Triangle'},\n",
       " '7': {'name': '7',\n",
       "  'description': 'Colour: Blue, Size: Small, Shape: Triangle'}}"
      ]
     },
     "execution_count": 20,
     "metadata": {},
     "output_type": "execute_result"
    }
   ],
   "source": [
    "shapes"
   ]
  }
 ],
 "metadata": {
  "kernelspec": {
   "display_name": "Python 3 (ipykernel)",
   "language": "python",
   "name": "python3"
  },
  "language_info": {
   "codemirror_mode": {
    "name": "ipython",
    "version": 3
   },
   "file_extension": ".py",
   "mimetype": "text/x-python",
   "name": "python",
   "nbconvert_exporter": "python",
   "pygments_lexer": "ipython3",
   "version": "3.9.16"
  }
 },
 "nbformat": 4,
 "nbformat_minor": 5
}
