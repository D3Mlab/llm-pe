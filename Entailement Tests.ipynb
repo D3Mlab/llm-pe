{
 "cells": [
  {
   "cell_type": "code",
   "execution_count": 4,
   "id": "251ce004",
   "metadata": {},
   "outputs": [],
   "source": [
    "import os\n",
    "from users.base_user import UserSim\n",
    "from users.llm_user import LLMUserSim\n",
    "from dialogue_sim import DialogueSimulator\n",
    "import pe_modules\n",
    "import users\n",
    "import dataloaders\n",
    "import llms\n",
    "import jinja2\n",
    "import argparse\n",
    "import yaml\n",
    "import json"
   ]
  },
  {
   "cell_type": "code",
   "execution_count": 15,
   "id": "30eb5e12",
   "metadata": {},
   "outputs": [],
   "source": [
    "#Read data"
   ]
  },
  {
   "cell_type": "markdown",
   "id": "14984314",
   "metadata": {},
   "source": [
    "### Shapes:\n",
    "All 8 combinations of {red,blue},{large,small},{circle,triangle}"
   ]
  },
  {
   "cell_type": "code",
   "execution_count": 23,
   "id": "40fe8b6a",
   "metadata": {},
   "outputs": [],
   "source": [
    "#shapes\n",
    "with open('data/shapes.json') as f:\n",
    "    shapes = json.load(f)  "
   ]
  },
  {
   "cell_type": "code",
   "execution_count": 24,
   "id": "16ccb603",
   "metadata": {
    "scrolled": false
   },
   "outputs": [
    {
     "data": {
      "text/plain": [
       "{'0': {'name': 'Red Large Circle', 'description': 'Red Large Circle'},\n",
       " '1': {'name': 'Red Large Triangle', 'description': 'Red Large Triangle'},\n",
       " '2': {'name': 'Red Small Circle', 'description': 'Red Small Circle'},\n",
       " '3': {'name': 'Red Small Triangle', 'description': 'Red Small Triangle'},\n",
       " '4': {'name': 'Blue Large Circle', 'description': 'Blue Large Circle'},\n",
       " '5': {'name': 'Blue Large Triangle', 'description': 'Blue Large Triangle'},\n",
       " '6': {'name': 'Blue Small Triangle', 'description': 'Blue Small Triangle'},\n",
       " '7': {'name': 'Blue Small Triangle', 'description': 'Blue Small Triangle'}}"
      ]
     },
     "execution_count": 24,
     "metadata": {},
     "output_type": "execute_result"
    }
   ],
   "source": [
    "shapes"
   ]
  },
  {
   "cell_type": "markdown",
   "id": "b1765288",
   "metadata": {},
   "source": [
    "### Clothing\n",
    "\n",
    "all 8 combinations of {Men's, Women's}, {Black, Red}, {Shoes,T-Shirt}"
   ]
  }
 ],
 "metadata": {
  "kernelspec": {
   "display_name": "Python 3 (ipykernel)",
   "language": "python",
   "name": "python3"
  },
  "language_info": {
   "codemirror_mode": {
    "name": "ipython",
    "version": 3
   },
   "file_extension": ".py",
   "mimetype": "text/x-python",
   "name": "python",
   "nbconvert_exporter": "python",
   "pygments_lexer": "ipython3",
   "version": "3.9.16"
  }
 },
 "nbformat": 4,
 "nbformat_minor": 5
}
