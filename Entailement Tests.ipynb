{
 "cells": [
  {
   "cell_type": "code",
   "execution_count": 4,
   "id": "fbfba6c9",
   "metadata": {},
   "outputs": [],
   "source": [
    "import os\n",
    "from users.base_user import UserSim\n",
    "from users.llm_user import LLMUserSim\n",
    "from dialogue_sim import DialogueSimulator\n",
    "import pe_modules\n",
    "import users\n",
    "import dataloaders\n",
    "import llms\n",
    "import jinja2\n",
    "import argparse\n",
    "import yaml\n",
    "import json"
   ]
  },
  {
   "cell_type": "code",
   "execution_count": 7,
   "id": "b03184f0",
   "metadata": {},
   "outputs": [],
   "source": [
    "#Read data\n",
    "with open('data/synth_data.json') as f:\n",
    "    shape_data = json.load(f)['items']"
   ]
  },
  {
   "cell_type": "code",
   "execution_count": 8,
   "id": "434c7f7b",
   "metadata": {},
   "outputs": [
    {
     "data": {
      "text/plain": [
       "[{'id': 0,\n",
       "  'name': '0',\n",
       "  'description': ['Colour: Red, Size: Large, Shape: Circle']},\n",
       " {'id': 1,\n",
       "  'name': '1',\n",
       "  'description': ['Colour: Red, Size: Large, Shape: Triangle']},\n",
       " {'id': 2,\n",
       "  'name': '2',\n",
       "  'description': ['Colour: Red, Size: Small, Shape: Circle']},\n",
       " {'id': 3,\n",
       "  'name': '3',\n",
       "  'description': ['Colour: Red, Size: Small, Shape: Triangle']},\n",
       " {'id': 4,\n",
       "  'name': '4',\n",
       "  'description': ['Colour: Blue, Size: Large, Shape: Circle']},\n",
       " {'id': 5,\n",
       "  'name': '5',\n",
       "  'description': ['Colour: Blue, Size: Large, Shape: Triangle']},\n",
       " {'id': 6,\n",
       "  'name': '6',\n",
       "  'description': ['Colour: Blue, Size: Small, Shape: Triangle']},\n",
       " {'id': 7,\n",
       "  'name': '7',\n",
       "  'description': ['Colour: Blue, Size: Small, Shape: Triangle']}]"
      ]
     },
     "execution_count": 8,
     "metadata": {},
     "output_type": "execute_result"
    }
   ],
   "source": [
    "shape_data"
   ]
  }
 ],
 "metadata": {
  "kernelspec": {
   "display_name": "Python 3 (ipykernel)",
   "language": "python",
   "name": "python3"
  },
  "language_info": {
   "codemirror_mode": {
    "name": "ipython",
    "version": 3
   },
   "file_extension": ".py",
   "mimetype": "text/x-python",
   "name": "python",
   "nbconvert_exporter": "python",
   "pygments_lexer": "ipython3",
   "version": "3.9.16"
  }
 },
 "nbformat": 4,
 "nbformat_minor": 5
}
