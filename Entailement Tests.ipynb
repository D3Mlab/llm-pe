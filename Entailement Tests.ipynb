{
 "cells": [
  {
   "cell_type": "code",
   "execution_count": 4,
   "id": "d4b2a4e5",
   "metadata": {},
   "outputs": [],
   "source": [
    "import os\n",
    "from users.base_user import UserSim\n",
    "from users.llm_user import LLMUserSim\n",
    "from dialogue_sim import DialogueSimulator\n",
    "import pe_modules\n",
    "import users\n",
    "import dataloaders\n",
    "import llms\n",
    "import jinja2\n",
    "import argparse\n",
    "import yaml\n",
    "import json"
   ]
  },
  {
   "cell_type": "markdown",
   "id": "2ba7b94c",
   "metadata": {},
   "source": [
    "# Get Item Data"
   ]
  },
  {
   "cell_type": "markdown",
   "id": "10ed2bce",
   "metadata": {},
   "source": [
    "### Shapes:\n",
    "All 8 combinations of {red,blue},{large,small},{circle,triangle}"
   ]
  },
  {
   "cell_type": "code",
   "execution_count": 25,
   "id": "30d4d372",
   "metadata": {
    "scrolled": true
   },
   "outputs": [
    {
     "data": {
      "text/plain": [
       "{'0': {'name': 'Red Large Circle', 'description': 'Red Large Circle'},\n",
       " '1': {'name': 'Red Large Triangle', 'description': 'Red Large Triangle'},\n",
       " '2': {'name': 'Red Small Circle', 'description': 'Red Small Circle'},\n",
       " '3': {'name': 'Red Small Triangle', 'description': 'Red Small Triangle'},\n",
       " '4': {'name': 'Blue Large Circle', 'description': 'Blue Large Circle'},\n",
       " '5': {'name': 'Blue Large Triangle', 'description': 'Blue Large Triangle'},\n",
       " '6': {'name': 'Blue Small Triangle', 'description': 'Blue Small Triangle'},\n",
       " '7': {'name': 'Blue Small Triangle', 'description': 'Blue Small Triangle'}}"
      ]
     },
     "execution_count": 25,
     "metadata": {},
     "output_type": "execute_result"
    }
   ],
   "source": [
    "with open('data/shapes.json') as f:\n",
    "    shapes = json.load(f)\n",
    "shapes"
   ]
  },
  {
   "cell_type": "markdown",
   "id": "7ce0e993",
   "metadata": {},
   "source": [
    "### Clothing\n",
    "\n",
    "all 8 combinations of {Men's, Women's}, {Black, Red}, {Shoes,T-Shirt}"
   ]
  },
  {
   "cell_type": "code",
   "execution_count": 32,
   "id": "a627385d",
   "metadata": {
    "scrolled": true
   },
   "outputs": [
    {
     "data": {
      "text/plain": [
       "{'0': {'name': \"Men's Black Shoes\", 'description': \"Men's Black Shoes\"},\n",
       " '1': {'name': \"Men's Black T-Shirt\", 'description': \"Men's Black T-Shirt\"},\n",
       " '2': {'name': \"Men's Red Shoes\", 'description': \"Men's Red Shoes\"},\n",
       " '3': {'name': \"Men's Red T-Shirt\", 'description': \"Men's Red T-Shirt\"},\n",
       " '4': {'name': \"Women's Black Shoes\", 'description': \"Women's Black Shoes\"},\n",
       " '5': {'name': \"Women's Black T-Shirt\",\n",
       "  'description': \"Women's Black T-Shirt\"},\n",
       " '6': {'name': \"Women's Red Shoes\", 'description': \"Women's Red Shoes\"},\n",
       " '7': {'name': \"Women's Red T-Shirt\", 'description': \"Women's Red T-Shirt\"}}"
      ]
     },
     "execution_count": 32,
     "metadata": {},
     "output_type": "execute_result"
    }
   ],
   "source": [
    "with open('data/clothing.json') as f:\n",
    "    clothing = json.load(f)\n",
    "clothing"
   ]
  },
  {
   "cell_type": "markdown",
   "id": "678f36b7",
   "metadata": {},
   "source": [
    "# Get queries"
   ]
  },
  {
   "cell_type": "code",
   "execution_count": 34,
   "id": "840f338c",
   "metadata": {},
   "outputs": [],
   "source": [
    "easy_single_aspect_shape_queries = ['red','blue','large','small','circle','triangle']\n",
    "easy_single_aspect_clothing_queries = ['men\\'s','women\\'s','red','blue','shoes','t-shirt']"
   ]
  },
  {
   "cell_type": "markdown",
   "id": "0df27846",
   "metadata": {},
   "source": [
    "# Entailement Code\n",
    "TODO: Move to ItemScorer classes"
   ]
  },
  {
   "cell_type": "code",
   "execution_count": null,
   "id": "22ed9b4f",
   "metadata": {},
   "outputs": [],
   "source": []
  },
  {
   "cell_type": "markdown",
   "id": "6e621692",
   "metadata": {},
   "source": [
    "#### Sentence-Transformer Cross Encoder"
   ]
  },
  {
   "cell_type": "code",
   "execution_count": 41,
   "id": "b0866ef0",
   "metadata": {},
   "outputs": [],
   "source": [
    "import torch\n",
    "from sentence_transformers import CrossEncoder\n",
    "model = CrossEncoder('cross-encoder/ms-marco-MiniLM-L-12-v2')"
   ]
  },
  {
   "cell_type": "code",
   "execution_count": 102,
   "id": "b2ad9c97",
   "metadata": {},
   "outputs": [],
   "source": [
    "test_CE_input =  [('something other than a small red circle', 'Red Large Circle'), \n",
    "                  ('Query:  Are you looking for a small red circle? \\n Response:  No', 'Red Large Circle')]\n",
    "\n"
   ]
  },
  {
   "cell_type": "code",
   "execution_count": 103,
   "id": "524022ae",
   "metadata": {},
   "outputs": [],
   "source": [
    "output = model.predict(\n",
    "            test_CE_input\n",
    "        )"
   ]
  },
  {
   "cell_type": "code",
   "execution_count": 104,
   "id": "8893eb0a",
   "metadata": {},
   "outputs": [
    {
     "data": {
      "text/plain": [
       "tensor([0.6911, 0.8883])"
      ]
     },
     "execution_count": 104,
     "metadata": {},
     "output_type": "execute_result"
    }
   ],
   "source": [
    "torch.sigmoid(torch.from_numpy(output))"
   ]
  }
 ],
 "metadata": {
  "kernelspec": {
   "display_name": "Python 3 (ipykernel)",
   "language": "python",
   "name": "python3"
  },
  "language_info": {
   "codemirror_mode": {
    "name": "ipython",
    "version": 3
   },
   "file_extension": ".py",
   "mimetype": "text/x-python",
   "name": "python",
   "nbconvert_exporter": "python",
   "pygments_lexer": "ipython3",
   "version": "3.9.16"
  }
 },
 "nbformat": 4,
 "nbformat_minor": 5
}
