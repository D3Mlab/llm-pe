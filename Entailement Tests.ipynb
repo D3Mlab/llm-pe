{
 "cells": [
  {
   "cell_type": "code",
   "execution_count": 4,
   "id": "a50f7bc0",
   "metadata": {},
   "outputs": [],
   "source": [
    "import os\n",
    "from users.base_user import UserSim\n",
    "from users.llm_user import LLMUserSim\n",
    "from dialogue_sim import DialogueSimulator\n",
    "import pe_modules\n",
    "import users\n",
    "import dataloaders\n",
    "import llms\n",
    "import jinja2\n",
    "import argparse\n",
    "import yaml\n",
    "import json"
   ]
  },
  {
   "cell_type": "code",
   "execution_count": 15,
   "id": "6ed80259",
   "metadata": {},
   "outputs": [],
   "source": [
    "#Read data"
   ]
  },
  {
   "cell_type": "markdown",
   "id": "8ed7cbc8",
   "metadata": {},
   "source": [
    "### Shapes:\n",
    "All 8 combinations of {red,blue},{large,small},{circle,triangle}"
   ]
  },
  {
   "cell_type": "code",
   "execution_count": 25,
   "id": "19735085",
   "metadata": {
    "scrolled": true
   },
   "outputs": [
    {
     "data": {
      "text/plain": [
       "{'0': {'name': 'Red Large Circle', 'description': 'Red Large Circle'},\n",
       " '1': {'name': 'Red Large Triangle', 'description': 'Red Large Triangle'},\n",
       " '2': {'name': 'Red Small Circle', 'description': 'Red Small Circle'},\n",
       " '3': {'name': 'Red Small Triangle', 'description': 'Red Small Triangle'},\n",
       " '4': {'name': 'Blue Large Circle', 'description': 'Blue Large Circle'},\n",
       " '5': {'name': 'Blue Large Triangle', 'description': 'Blue Large Triangle'},\n",
       " '6': {'name': 'Blue Small Triangle', 'description': 'Blue Small Triangle'},\n",
       " '7': {'name': 'Blue Small Triangle', 'description': 'Blue Small Triangle'}}"
      ]
     },
     "execution_count": 25,
     "metadata": {},
     "output_type": "execute_result"
    }
   ],
   "source": [
    "with open('data/shapes.json') as f:\n",
    "    shapes = json.load(f)\n",
    "shapes"
   ]
  },
  {
   "cell_type": "markdown",
   "id": "8be58050",
   "metadata": {},
   "source": [
    "### Clothing\n",
    "\n",
    "all 8 combinations of {Men's, Women's}, {Black, Red}, {Shoes,T-Shirt}"
   ]
  },
  {
   "cell_type": "code",
   "execution_count": 27,
   "id": "dedb70b6",
   "metadata": {},
   "outputs": [
    {
     "data": {
      "text/plain": [
       "{'0': {'name': \"Men's Black Shoes\", 'description': \"Men's Black Shoes\"},\n",
       " '1': {'name': \"Men's Black T-Shirt\", 'description': \"Men's Black T-Shirt\"},\n",
       " '2': {'name': \"Men's Red Shoes\", 'description': \"Men's Red Shoes\"},\n",
       " '3': {'name': \"Men's Red T-Shirt\", 'description': \"Men's Red T-Shirt\"},\n",
       " '4': {'name': \"Women's Black Shoes\", 'description': \"Women's Black Shoes\"},\n",
       " '5': {'name': \"Women's Black T-Shirt\",\n",
       "  'description': \"Women's Black T-Shirt\"},\n",
       " '6': {'name': \"Women's Red Shoes\", 'description': \"Women's Red Shoes\"},\n",
       " '7': {'name': \"Women's Red T-Shirt\", 'description': \"Women's Red T-Shirt\"}}"
      ]
     },
     "execution_count": 27,
     "metadata": {},
     "output_type": "execute_result"
    }
   ],
   "source": [
    "with open('data/clothing.json') as f:\n",
    "    clothing = json.load(f)\n",
    "clothing"
   ]
  }
 ],
 "metadata": {
  "kernelspec": {
   "display_name": "Python 3 (ipykernel)",
   "language": "python",
   "name": "python3"
  },
  "language_info": {
   "codemirror_mode": {
    "name": "ipython",
    "version": 3
   },
   "file_extension": ".py",
   "mimetype": "text/x-python",
   "name": "python",
   "nbconvert_exporter": "python",
   "pygments_lexer": "ipython3",
   "version": "3.9.16"
  }
 },
 "nbformat": 4,
 "nbformat_minor": 5
}
