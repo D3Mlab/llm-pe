{
 "cells": [
  {
   "cell_type": "markdown",
   "metadata": {},
   "source": [
    "This file randomly assigns preferred items to users and saves it in QREL format"
   ]
  },
  {
   "cell_type": "code",
   "execution_count": 5,
   "metadata": {},
   "outputs": [],
   "source": [
    "n_users = 16\n",
    "n_items = 16"
   ]
  },
  {
   "cell_type": "code",
   "execution_count": 6,
   "metadata": {},
   "outputs": [
    {
     "data": {
      "text/plain": [
       "['4',\n",
       " '10',\n",
       " '5',\n",
       " '0',\n",
       " '8',\n",
       " '15',\n",
       " '6',\n",
       " '9',\n",
       " '1',\n",
       " '13',\n",
       " '11',\n",
       " '14',\n",
       " '2',\n",
       " '7',\n",
       " '12',\n",
       " '3']"
      ]
     },
     "execution_count": 6,
     "metadata": {},
     "output_type": "execute_result"
    }
   ],
   "source": [
    "# Set item IDs\n",
    "item_ids = []\n",
    "for i in range(n_items):\n",
    "    item_ids.append(str(i))\n",
    "\n",
    "import random\n",
    "item_ids = random.sample(item_ids, n_users)\n",
    "\n",
    "item_ids\n"
   ]
  },
  {
   "cell_type": "code",
   "execution_count": 7,
   "metadata": {},
   "outputs": [
    {
     "data": {
      "text/plain": [
       "['0',\n",
       " '1',\n",
       " '2',\n",
       " '3',\n",
       " '4',\n",
       " '5',\n",
       " '6',\n",
       " '7',\n",
       " '8',\n",
       " '9',\n",
       " '10',\n",
       " '11',\n",
       " '12',\n",
       " '13',\n",
       " '14',\n",
       " '15']"
      ]
     },
     "execution_count": 7,
     "metadata": {},
     "output_type": "execute_result"
    }
   ],
   "source": [
    "# Set user IDs\n",
    "user_ids = []\n",
    "for i in range(n_users):\n",
    "    user_ids.append(str(i))\n",
    "\n",
    "user_ids"
   ]
  },
  {
   "cell_type": "markdown",
   "metadata": {},
   "source": [
    "# DO NOT RUN UNTIL YOU HAVE THE RIGHT FILE NAME"
   ]
  },
  {
   "cell_type": "code",
   "execution_count": 4,
   "metadata": {},
   "outputs": [],
   "source": [
    "# Save to file\n",
    "file_name = \"./data/users/users_16_16.tsv\"\n",
    "file = open(file_name, \"w\")\n",
    "\n",
    "for i in range(n_users):\n",
    "    file.write(f\"{user_ids[i]}\\t0\\t{item_ids[i]}\\t1\\n\")\n",
    "\n",
    "file.close()\n"
   ]
  }
 ],
 "metadata": {
  "kernelspec": {
   "display_name": "Python 3 (ipykernel)",
   "language": "python",
   "name": "python3"
  },
  "language_info": {
   "codemirror_mode": {
    "name": "ipython",
    "version": 3
   },
   "file_extension": ".py",
   "mimetype": "text/x-python",
   "name": "python",
   "nbconvert_exporter": "python",
   "pygments_lexer": "ipython3",
   "version": "3.9.18"
  }
 },
 "nbformat": 4,
 "nbformat_minor": 4
}
