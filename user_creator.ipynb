{
 "cells": [
  {
   "cell_type": "markdown",
   "metadata": {},
   "source": [
    "This file randomly assigns preferred items to users and saves it in QREL format"
   ]
  },
  {
   "cell_type": "code",
   "execution_count": 1,
   "metadata": {},
   "outputs": [],
   "source": [
    "n_users = 50\n",
    "n_items = 50"
   ]
  },
  {
   "cell_type": "code",
   "execution_count": 2,
   "metadata": {},
   "outputs": [
    {
     "data": {
      "text/plain": [
       "['36',\n",
       " '41',\n",
       " '48',\n",
       " '28',\n",
       " '24',\n",
       " '17',\n",
       " '25',\n",
       " '9',\n",
       " '47',\n",
       " '37',\n",
       " '13',\n",
       " '2',\n",
       " '27',\n",
       " '10',\n",
       " '14',\n",
       " '29',\n",
       " '43',\n",
       " '31',\n",
       " '22',\n",
       " '42',\n",
       " '5',\n",
       " '12',\n",
       " '44',\n",
       " '15',\n",
       " '1',\n",
       " '8',\n",
       " '6',\n",
       " '33',\n",
       " '49',\n",
       " '21',\n",
       " '39',\n",
       " '0',\n",
       " '16',\n",
       " '34',\n",
       " '23',\n",
       " '30',\n",
       " '11',\n",
       " '45',\n",
       " '35',\n",
       " '19',\n",
       " '18',\n",
       " '20',\n",
       " '46',\n",
       " '32',\n",
       " '40',\n",
       " '4',\n",
       " '7',\n",
       " '38',\n",
       " '26',\n",
       " '3']"
      ]
     },
     "execution_count": 2,
     "metadata": {},
     "output_type": "execute_result"
    }
   ],
   "source": [
    "# Set item IDs\n",
    "item_ids = []\n",
    "for i in range(n_items):\n",
    "    item_ids.append(str(i))\n",
    "\n",
    "import random\n",
    "item_ids = random.sample(item_ids, n_users)\n",
    "\n",
    "item_ids\n"
   ]
  },
  {
   "cell_type": "code",
   "execution_count": 3,
   "metadata": {},
   "outputs": [
    {
     "data": {
      "text/plain": [
       "['0',\n",
       " '1',\n",
       " '2',\n",
       " '3',\n",
       " '4',\n",
       " '5',\n",
       " '6',\n",
       " '7',\n",
       " '8',\n",
       " '9',\n",
       " '10',\n",
       " '11',\n",
       " '12',\n",
       " '13',\n",
       " '14',\n",
       " '15',\n",
       " '16',\n",
       " '17',\n",
       " '18',\n",
       " '19',\n",
       " '20',\n",
       " '21',\n",
       " '22',\n",
       " '23',\n",
       " '24',\n",
       " '25',\n",
       " '26',\n",
       " '27',\n",
       " '28',\n",
       " '29',\n",
       " '30',\n",
       " '31',\n",
       " '32',\n",
       " '33',\n",
       " '34',\n",
       " '35',\n",
       " '36',\n",
       " '37',\n",
       " '38',\n",
       " '39',\n",
       " '40',\n",
       " '41',\n",
       " '42',\n",
       " '43',\n",
       " '44',\n",
       " '45',\n",
       " '46',\n",
       " '47',\n",
       " '48',\n",
       " '49']"
      ]
     },
     "execution_count": 3,
     "metadata": {},
     "output_type": "execute_result"
    }
   ],
   "source": [
    "# Set user IDs\n",
    "user_ids = []\n",
    "for i in range(n_users):\n",
    "    user_ids.append(str(i))\n",
    "\n",
    "user_ids"
   ]
  },
  {
   "cell_type": "code",
   "execution_count": 8,
   "metadata": {},
   "outputs": [],
   "source": [
    "# Save to file\n",
    "file_name = \"./data/users/movielens_50_50_users.tsv\"\n",
    "file = open(file_name, \"w\")\n",
    "\n",
    "for i in range(n_users):\n",
    "    file.write(f\"{user_ids[i]}\\t0\\t{item_ids[i]}\\t1\\n\")\n",
    "\n",
    "file.close()\n"
   ]
  }
 ],
 "metadata": {
  "kernelspec": {
   "display_name": "Python 3 (ipykernel)",
   "language": "python",
   "name": "python3"
  },
  "language_info": {
   "codemirror_mode": {
    "name": "ipython",
    "version": 3
   },
   "file_extension": ".py",
   "mimetype": "text/x-python",
   "name": "python",
   "nbconvert_exporter": "python",
   "pygments_lexer": "ipython3",
   "version": "3.9.18"
  }
 },
 "nbformat": 4,
 "nbformat_minor": 4
}
