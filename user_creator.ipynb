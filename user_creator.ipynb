{
 "cells": [
  {
   "cell_type": "markdown",
   "metadata": {},
   "source": [
    "This file randomly assigns preferred items to users and saves it in QREL format"
   ]
  },
  {
   "cell_type": "code",
   "execution_count": 1,
   "metadata": {},
   "outputs": [],
   "source": [
    "n_users = 5\n",
    "n_items = 1000"
   ]
  },
  {
   "cell_type": "code",
   "execution_count": 2,
   "metadata": {},
   "outputs": [
    {
     "data": {
      "text/plain": [
       "['621', '809', '684', '612', '237']"
      ]
     },
     "execution_count": 2,
     "metadata": {},
     "output_type": "execute_result"
    }
   ],
   "source": [
    "# Set item IDs\n",
    "item_ids = []\n",
    "for i in range(n_items):\n",
    "    item_ids.append(str(i))\n",
    "\n",
    "import random\n",
    "item_ids = random.sample(item_ids, n_users)\n",
    "\n",
    "item_ids\n"
   ]
  },
  {
   "cell_type": "code",
   "execution_count": 3,
   "metadata": {},
   "outputs": [
    {
     "data": {
      "text/plain": [
       "['0', '1', '2', '3', '4']"
      ]
     },
     "execution_count": 3,
     "metadata": {},
     "output_type": "execute_result"
    }
   ],
   "source": [
    "# Set user IDs\n",
    "user_ids = []\n",
    "for i in range(n_users):\n",
    "    user_ids.append(str(i))\n",
    "\n",
    "user_ids"
   ]
  },
  {
   "cell_type": "markdown",
   "metadata": {},
   "source": [
    "# DO NOT RUN UNTIL YOU HAVE THE RIGHT FILE NAME"
   ]
  },
  {
   "cell_type": "code",
   "execution_count": 12,
   "metadata": {},
   "outputs": [],
   "source": [
    "# Save to file\n",
    "file_name = \"./data/users/users_5_1000.tsv\"\n",
    "file = open(file_name, \"w\")\n",
    "\n",
    "for i in range(n_users):\n",
    "    file.write(f\"{user_ids[i]}\\t0\\t{item_ids[i]}\\t1\\n\")\n",
    "\n",
    "file.close()\n"
   ]
  }
 ],
 "metadata": {
  "kernelspec": {
   "display_name": "Python 3 (ipykernel)",
   "language": "python",
   "name": "python3"
  },
  "language_info": {
   "codemirror_mode": {
    "name": "ipython",
    "version": 3
   },
   "file_extension": ".py",
   "mimetype": "text/x-python",
   "name": "python",
   "nbconvert_exporter": "python",
   "pygments_lexer": "ipython3",
   "version": "3.9.18"
  }
 },
 "nbformat": 4,
 "nbformat_minor": 4
}
