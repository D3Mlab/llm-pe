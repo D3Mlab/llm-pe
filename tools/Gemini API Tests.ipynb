{
 "cells": [
  {
   "cell_type": "code",
   "execution_count": 2,
   "id": "a45a4869-7956-414b-94d9-19c9fbef813f",
   "metadata": {},
   "outputs": [],
   "source": [
    "!pip install -q -U google-generativeai"
   ]
  },
  {
   "cell_type": "code",
   "execution_count": 3,
   "id": "fff72c18-4a9d-46bc-b7ff-2964e4787545",
   "metadata": {},
   "outputs": [],
   "source": [
    "import google.generativeai as genai\n",
    "import os"
   ]
  },
  {
   "cell_type": "code",
   "execution_count": 5,
   "id": "20d78ed3-8a1e-494f-b622-ecaf196d2a83",
   "metadata": {},
   "outputs": [
    {
     "name": "stdin",
     "output_type": "stream",
     "text": [
      "Enter your GEMINI API key: ········\n"
     ]
    }
   ],
   "source": [
    "from getpass import getpass\n",
    "gemini_api_key = getpass(\"Enter your GEMINI API key:\")"
   ]
  },
  {
   "cell_type": "code",
   "execution_count": 6,
   "id": "50149a69-00a0-4ed6-ac1a-f662399b70e8",
   "metadata": {},
   "outputs": [],
   "source": [
    "genai.configure(api_key = gemini_api_key)"
   ]
  },
  {
   "cell_type": "code",
   "execution_count": 7,
   "id": "0f51a450-f892-489b-8c2a-b2ed1842f367",
   "metadata": {},
   "outputs": [],
   "source": [
    "from IPython.display import Markdown"
   ]
  },
  {
   "cell_type": "code",
   "execution_count": 8,
   "id": "1904fa7b-ee6c-4ea4-bcd1-b81127c65130",
   "metadata": {},
   "outputs": [],
   "source": [
    "model = genai.GenerativeModel('gemini-pro')"
   ]
  },
  {
   "cell_type": "code",
   "execution_count": 19,
   "id": "00a96a88-5bf7-4c83-aaef-c3d509c85c64",
   "metadata": {},
   "outputs": [],
   "source": [
    "response = model.generate_content(\n",
    "'''\n",
    "Identify an important aspect of an item given the item description. The aspect should be different from any previously identified aspects and must not exceed 3 words.\n",
    "\n",
    "Example 1:\n",
    "$$$\n",
    "Item Description:\n",
    "****\n",
    " -Movie Title: Social Network, The (2010) \\n -Genres: Drama \\n -Tags: computers, true story, Jesse Eisenberg, based on true story, hacking, college, dark comedy, internet, David Fincher, business, software developers, loneliness, nerds, based on a true story, witty, complex characters, facebook, friendship, social network, Justin Timberlake\n",
    "****\n",
    "\n",
    "Previously extracted aspects:\n",
    "****\n",
    "\n",
    "action\n",
    "\n",
    "comedy\n",
    "\n",
    "1990's\n",
    "\n",
    "horror\n",
    "\n",
    "drama\n",
    "\n",
    "2010's\n",
    "\n",
    "****\n",
    "\n",
    "Output: technology and society\n",
    "$$$\n",
    "\n",
    "Example 2:\n",
    "$$$\n",
    "Item Description:\n",
    "****\n",
    " -Movie Title: Monsters, Inc. (2001) \\n -Genres: Adventure, Animation, Children, Comedy, Fantasy \\n -Tags: Pixar, funny, Comedy, cute, animation, Animation, Disney, innovative, hilarious, John Goodman, Steve Buscemi, monsters, original, Oscar (Best Music - Original Score), Pixar animation, animated, Billy Crystal, CGI, Oscar (Best Music - Original Song), comedy\n",
    "****\n",
    "\n",
    "Previously extracted aspects:\n",
    "****\n",
    "****\n",
    "\n",
    "Output: children\n",
    "$$$\n",
    "\n",
    "Example 3:\n",
    "$$$\n",
    "Item Description:\n",
    "****\n",
    " -Movie Title: Runaway Train (1985) \\n -Genres: Action, Adventure, Drama, Thriller \\n -Tags: prison escape, Andrei Konchalovsky, Andrey Konchalovskiy, trains, Betamax, CLV, Director: Andrey Konchalovskiy, Eric Roberts, Jon Voight, Kenneth McMillan, Kyle T. Heffner, Rebecca De Mornay, T.K. Carter, Writer: Akira Kurosawa, Writer: Djordje Milicevic, Writer: Edward Bunker, Writer: Hideo Oguni, Writer: Paul Zindel, Writer: Ry\\u00fbz\\u00f4 Kikushima, alaska\n",
    "****\n",
    "\n",
    "Previously extracted aspects:\n",
    "****\n",
    "\n",
    "comedy\n",
    "\n",
    "thriller\n",
    "\n",
    "prison escape\n",
    "\n",
    "****\n",
    "\n",
    "Output: 80's\n",
    "$$$\n",
    "\n",
    "Input:\n",
    "$$$\n",
    "Item Description:\n",
    "****\n",
    " Movie Title: Love Me If You Dare (Jeux d'enfants) (2003)\n",
    " Genres: Drama, Romance\n",
    " Tags: Marion Cotillard, French, friendship, beautiful color, cruel characters, romance, Nudity (Topless - Notable), cross-sex friendship, escapist ending, excellent cinematography, fantastical imagery, France, bet, sad ending, Bibliothek, Guillaume Canet, dare, merry-go-round, Tumey's DVDs, Yann Samuell\n",
    "****\n",
    "\n",
    "Previously extracted aspects:\n",
    "****\n",
    "****\n",
    "\n",
    "Output:\n",
    "''')"
   ]
  },
  {
   "cell_type": "code",
   "execution_count": 20,
   "id": "1a3746e7-ac09-4069-9753-2b81812503f4",
   "metadata": {
    "scrolled": true
   },
   "outputs": [
    {
     "data": {
      "text/markdown": [
       "magical realism"
      ],
      "text/plain": [
       "<IPython.core.display.Markdown object>"
      ]
     },
     "execution_count": 20,
     "metadata": {},
     "output_type": "execute_result"
    }
   ],
   "source": [
    "Markdown(response.text)"
   ]
  },
  {
   "cell_type": "code",
   "execution_count": 21,
   "id": "4a24d36b-de05-4540-a257-d7bcf35121ed",
   "metadata": {},
   "outputs": [
    {
     "data": {
      "text/plain": [
       "response:\n",
       "GenerateContentResponse(\n",
       "    done=True,\n",
       "    iterator=None,\n",
       "    result=protos.GenerateContentResponse({\n",
       "      \"candidates\": [\n",
       "        {\n",
       "          \"content\": {\n",
       "            \"parts\": [\n",
       "              {\n",
       "                \"text\": \"magical realism\"\n",
       "              }\n",
       "            ],\n",
       "            \"role\": \"model\"\n",
       "          },\n",
       "          \"finish_reason\": \"STOP\",\n",
       "          \"index\": 0,\n",
       "          \"safety_ratings\": [\n",
       "            {\n",
       "              \"category\": \"HARM_CATEGORY_SEXUALLY_EXPLICIT\",\n",
       "              \"probability\": \"NEGLIGIBLE\"\n",
       "            },\n",
       "            {\n",
       "              \"category\": \"HARM_CATEGORY_HATE_SPEECH\",\n",
       "              \"probability\": \"NEGLIGIBLE\"\n",
       "            },\n",
       "            {\n",
       "              \"category\": \"HARM_CATEGORY_HARASSMENT\",\n",
       "              \"probability\": \"NEGLIGIBLE\"\n",
       "            },\n",
       "            {\n",
       "              \"category\": \"HARM_CATEGORY_DANGEROUS_CONTENT\",\n",
       "              \"probability\": \"NEGLIGIBLE\"\n",
       "            }\n",
       "          ]\n",
       "        }\n",
       "      ],\n",
       "      \"usage_metadata\": {\n",
       "        \"prompt_token_count\": 590,\n",
       "        \"candidates_token_count\": 2,\n",
       "        \"total_token_count\": 592\n",
       "      }\n",
       "    }),\n",
       ")"
      ]
     },
     "execution_count": 21,
     "metadata": {},
     "output_type": "execute_result"
    }
   ],
   "source": [
    "response"
   ]
  }
 ],
 "metadata": {
  "kernelspec": {
   "display_name": "Python 3 (ipykernel)",
   "language": "python",
   "name": "python3"
  },
  "language_info": {
   "codemirror_mode": {
    "name": "ipython",
    "version": 3
   },
   "file_extension": ".py",
   "mimetype": "text/x-python",
   "name": "python",
   "nbconvert_exporter": "python",
   "pygments_lexer": "ipython3",
   "version": "3.10.11"
  }
 },
 "nbformat": 4,
 "nbformat_minor": 5
}
