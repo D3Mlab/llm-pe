{
 "cells": [
  {
   "cell_type": "markdown",
   "metadata": {},
   "source": [
    "### This file is to automate comparisons between the actual numerical results for MonoLLM and PEBOL methods"
   ]
  },
  {
   "cell_type": "code",
   "execution_count": 3,
   "metadata": {},
   "outputs": [],
   "source": [
    "import pandas as pd"
   ]
  },
  {
   "cell_type": "code",
   "execution_count": 2,
   "metadata": {},
   "outputs": [],
   "source": [
    "datasets = ['recipes', 'restaurants', 'movies']\n",
    "method_order = ['GPT MonoLLM', 'Gemini MonoLLM', 'ER', 'Greedy', 'Random', 'Thompson', 'UCB']\n"
   ]
  },
  {
   "cell_type": "markdown",
   "metadata": {},
   "source": [
    "##### Get best PEBOL value vs MonoLLM value for each dataset at noise 0"
   ]
  },
  {
   "cell_type": "code",
   "execution_count": 4,
   "metadata": {},
   "outputs": [
    {
     "name": "stdout",
     "output_type": "stream",
     "text": [
      "recipes: GPT MonoLLM 0.1125 vs PEBOL 0.1745  (diff of 0.062)\n",
      "recipes: Gemini MonoLLM 0.1552 vs PEBOL 0.1745  (diff of 0.0193)\n",
      "restaurants: GPT MonoLLM 0.1167 vs PEBOL 0.2696  (diff of 0.1529)\n",
      "restaurants: Gemini MonoLLM 0.1717 vs PEBOL 0.2696  (diff of 0.098)\n",
      "movies: GPT MonoLLM 0.0937 vs PEBOL 0.1766  (diff of 0.0829)\n",
      "movies: Gemini MonoLLM 0.1469 vs PEBOL 0.1766  (diff of 0.0297)\n"
     ]
    }
   ],
   "source": [
    "mono_methods = ['GPT MonoLLM', 'Gemini MonoLLM']\n",
    "pebol_methods = ['ER', 'Greedy', 'Random', 'Thompson', 'UCB']\n",
    "\n",
    "for dataset in datasets:\n",
    "    results_df = pd.read_csv(f\"organized_results/{dataset}/best/noise0/aggregated_results.csv\")\n",
    "\n",
    "    for mono in mono_methods:\n",
    "        mono_idx = method_order.index(mono)\n",
    "        mono_val = results_df.loc[mono_idx, 'map@9']\n",
    "        biggest_pebol_val = 0\n",
    "        for pebol in pebol_methods:\n",
    "            pebol_idx = method_order.index(pebol)\n",
    "            pebol_val = results_df.loc[pebol_idx, 'map@9']\n",
    "            if pebol_val > biggest_pebol_val:\n",
    "                biggest_pebol_val = pebol_val\n",
    "        print(f\"{dataset}: {mono} {mono_val.round(4)} vs PEBOL {biggest_pebol_val.round(4)}  (diff of {(biggest_pebol_val - mono_val).round(4)})\")\n"
   ]
  },
  {
   "cell_type": "markdown",
   "metadata": {},
   "source": [
    "#### Get minimum improvement from PEBOL-P over PEBOL-B"
   ]
  },
  {
   "cell_type": "code",
   "execution_count": 5,
   "metadata": {},
   "outputs": [
    {
     "name": "stdout",
     "output_type": "stream",
     "text": [
      "Largest diff at turn 0: 0.0455 - 0.0348 = 0.0106\n",
      "Largest diff at turn 1: 0.0788 - 0.0495 = 0.0293\n",
      "Largest diff at turn 2: 0.1127 - 0.0577 = 0.055\n",
      "Largest diff at turn 3: 0.1013 - 0.0707 = 0.0306\n",
      "Largest diff at turn 4: 0.1174 - 0.0755 = 0.042\n",
      "Largest diff at turn 5: 0.1537 - 0.0891 = 0.0646\n",
      "Largest diff at turn 6: 0.1533 - 0.0978 = 0.0556\n",
      "Largest diff at turn 7: 0.1629 - 0.1183 = 0.0447\n",
      "Largest diff at turn 8: 0.1678 - 0.1247 = 0.0432\n",
      "Largest diff at turn 9: 0.1766 - 0.1285 = 0.0481\n"
     ]
    }
   ],
   "source": [
    "pb_methods = ['PEBOL-B ER','PEBOL-B Greedy','PEBOL-B Random','PEBOL-B TS','PEBOL-B UCB']\n",
    "\n",
    "b_results_df = pd.read_csv(f\"organized_results/movies/mnli0/aggregated_results.csv\")\n",
    "results_df = pd.read_csv(f\"organized_results/movies/best/noise0/aggregated_results.csv\")\n",
    "\n",
    "for turn in range(10):\n",
    "    largest_b_val = 0\n",
    "    pebol_p_idx = method_order.index(\"Thompson\")\n",
    "    pebol_p_val = results_df.loc[pebol_p_idx, f'map@{turn}']\n",
    "    \n",
    "    for pb_method in pb_methods:\n",
    "        pebol_b_idx = pb_methods.index(pb_method)\n",
    "        pebol_b_val = b_results_df.loc[pebol_b_idx, f'map@{turn}']\n",
    "\n",
    "        if pebol_b_val > largest_b_val:\n",
    "            largest_b_val = pebol_b_val\n",
    "    print(f\"Largest diff at turn {turn}: {pebol_p_val.round(4)} - {largest_b_val.round(4)} = {(pebol_p_val - largest_b_val).round(4)}\")\n",
    "        \n",
    "\n"
   ]
  },
  {
   "cell_type": "markdown",
   "metadata": {},
   "source": [
    "#### Aspect history"
   ]
  },
  {
   "cell_type": "code",
   "execution_count": 5,
   "metadata": {},
   "outputs": [
    {
     "name": "stdout",
     "output_type": "stream",
     "text": [
      "TS on recipes overall avg vals: History 0.1315 - No History 0.0941\n",
      "TS on restaurants overall avg vals: History 0.2696 - No History 0.1575\n",
      "TS on movies overall avg vals: History 0.1766 - No History 0.1351\n"
     ]
    }
   ],
   "source": [
    "nh_methods = ['Thompson', 'UCB']\n",
    "\n",
    "\n",
    "for dataset in datasets:\n",
    "    b_results_df = pd.read_csv(f\"organized_results/{dataset}/no_history/aggregated_results.csv\")\n",
    "    results_df = pd.read_csv(f\"organized_results/{dataset}/best/noise0/aggregated_results.csv\")\n",
    "\n",
    "    hist_idx = method_order.index('Thompson')\n",
    "    hist_val = results_df.loc[hist_idx, 'map@9']\n",
    "        \n",
    "    no_hist_idx = nh_methods.index('Thompson')\n",
    "    no_hist_val = b_results_df.loc[no_hist_idx, 'map@9']\n",
    "\n",
    "\n",
    "    print(f\"TS on {dataset} overall avg vals: History {(hist_val).round(4)} - No History {(no_hist_val).round(4)}\")\n",
    "            \n"
   ]
  },
  {
   "cell_type": "markdown",
   "metadata": {},
   "source": []
  }
 ],
 "metadata": {
  "kernelspec": {
   "display_name": "llm-pe",
   "language": "python",
   "name": "python3"
  },
  "language_info": {
   "codemirror_mode": {
    "name": "ipython",
    "version": 3
   },
   "file_extension": ".py",
   "mimetype": "text/x-python",
   "name": "python",
   "nbconvert_exporter": "python",
   "pygments_lexer": "ipython3",
   "version": "3.9.18"
  }
 },
 "nbformat": 4,
 "nbformat_minor": 2
}
