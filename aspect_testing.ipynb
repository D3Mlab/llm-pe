{
 "cells": [
  {
   "cell_type": "code",
   "execution_count": 3,
   "metadata": {},
   "outputs": [
    {
     "name": "stderr",
     "output_type": "stream",
     "text": [
      "/opt/homebrew/anaconda3/envs/llm-pe/lib/python3.9/site-packages/tqdm/auto.py:21: TqdmWarning: IProgress not found. Please update jupyter and ipywidgets. See https://ipywidgets.readthedocs.io/en/stable/user_install.html\n",
      "  from .autonotebook import tqdm as notebook_tqdm\n"
     ]
    }
   ],
   "source": [
    "import yaml\n",
    "import json\n",
    "import pe_modules\n",
    "import dataloaders\n",
    "import llms"
   ]
  },
  {
   "cell_type": "code",
   "execution_count": 4,
   "metadata": {},
   "outputs": [],
   "source": [
    "config = config = yaml.safe_load(open(\"./configs/david_base_config.yaml\"))"
   ]
  },
  {
   "cell_type": "code",
   "execution_count": 5,
   "metadata": {},
   "outputs": [],
   "source": [
    "from item_scorers.ce_scorer import CEScorer\n",
    "\n",
    "scorer = CEScorer(config)"
   ]
  },
  {
   "cell_type": "code",
   "execution_count": 6,
   "metadata": {},
   "outputs": [],
   "source": [
    "# Dataloader Class\n",
    "dataloader_class = dataloaders.DATALOADER_CLASSES[config['data']['data_loader_name']]\n",
    "# Load item data\n",
    "item_dataloader = dataloader_class(config['data']['data_path'], config) "
   ]
  },
  {
   "cell_type": "code",
   "execution_count": 7,
   "metadata": {},
   "outputs": [],
   "source": [
    "from pe_modules.dt_pe_module import DTPEModule\n",
    "pe_module = DTPEModule(config, item_dataloader)"
   ]
  },
  {
   "cell_type": "code",
   "execution_count": 8,
   "metadata": {},
   "outputs": [],
   "source": [
    "# Modify the past aspects\n",
    "pe_module.aspects = [\n",
    "                    {'aspect_key': 'age', 'aspect_value': '30 years old'},\n",
    "                    {'aspect_key': 'fuel efficiency', 'aspect_value': 'guzzler'},\n",
    "                    {'aspect_key': 'price', 'aspect_value': 'cheap'},\n",
    "                    ]\n",
    "# pe_module.aspects = []"
   ]
  },
  {
   "cell_type": "code",
   "execution_count": 9,
   "metadata": {},
   "outputs": [
    {
     "name": "stdout",
     "output_type": "stream",
     "text": [
      "{'aspect_key': 'maintenance', 'aspect_value': 'low maintenance'}\n"
     ]
    }
   ],
   "source": [
    "# Get aspect for item_desc\n",
    "item_desc = \"Bob's 30 year old truck. As cheap as you get. It's a bit of a guzzler but it wont need to go into the shop much\"\n",
    "aspect_dict = pe_module.get_aspect(item_desc)\n",
    "print(aspect_dict)"
   ]
  },
  {
   "cell_type": "markdown",
   "metadata": {},
   "source": [
    "## Aspect Generation Results\n",
    "\n",
    "### Note: Each table is in the order that the aspects key value pairs were generated. E.g. after (year,1968) was generated, that aspect was listed as a previously usd aspect value pair for all subsequent queries with that description. The next pair was (color, cherry red), etc.\n",
    "\n",
    "Description: 1968 Red Porsche 911. A classic 2-door sports car designed for the enthusiastic collector. Comes equipped with premium leather seats and a beautiful cherry red finish. Visit one of our dealerships to discuss pricing.\n",
    "\n",
    "| Key | Value |\n",
    "| --- | ----- |\n",
    "| year | 1968 |\n",
    "| color | cherry red |\n",
    "| body type | 2-door sports car |\n",
    "| features | premium leather seats |\n",
    "| purpose | enthusiastic collector |\n",
    "| dealership | visit one of our dealerships |\n",
    "| model | Porsche 911 |\n",
    "| type | classic |\n",
    "| type | sports car |\n",
    "| type | classic sports car |\n",
    "\n",
    "Description: small red men's tshirt\n",
    "\n",
    "| Key | Value |\n",
    "| --- | ----- |\n",
    "| size | small |\n",
    "| color | red |\n",
    "| gender | men's |\n",
    "| style | tshirt |\n",
    "| type | men's tshirt |\n",
    "\n",
    "Description: Bob's 30 year old truck. As cheap as you get. It's a bit of a guzzler but it wont need to go into the shop much\n",
    "\n",
    "| Key | Value |\n",
    "| --- | ----- |\n",
    "| age | 30 years old |\n",
    "| fuel efficiency | guzzler |\n",
    "| price | cheap |\n",
    "| maintenance | low |\n",
    "\n"
   ]
  },
  {
   "cell_type": "code",
   "execution_count": 10,
   "metadata": {},
   "outputs": [
    {
     "name": "stdout",
     "output_type": "stream",
     "text": [
      "{'1': 0.0052513983100652695, '2': 0.01000937819480896, '3': 4.5004278945270926e-05, '4': 5.5663029343122616e-05}\n"
     ]
    }
   ],
   "source": [
    "# Get entailment for aspect_str and various test items\n",
    "items = {\n",
    "    \"1\" : {'description': \"Large Red Car\"},\n",
    "    \"2\" : {'description': \"Small Red Car\"},\n",
    "    \"3\" : {'description': \"Large Blue Car\"},\n",
    "    \"4\" : {'description': \"Small Blue Car\"},\n",
    "}\n",
    "aspect_str = \"colour: not red\"\n",
    "\n",
    "like_probs = scorer.score_items(aspect_str, items)\n",
    "print(like_probs)"
   ]
  },
  {
   "cell_type": "markdown",
   "metadata": {},
   "source": [
    "## MovieLens testing"
   ]
  },
  {
   "cell_type": "code",
   "execution_count": 28,
   "metadata": {},
   "outputs": [
    {
     "data": {
      "text/plain": [
       "{'1214': {'description': 'Horror, Sci-Fi, imdb top 250, aliens, sci-fi, suspense, thriller, tense, horror, atmospheric, outer space, space, space travel, suspenseful',\n",
       "  'name': 'Alien (1979)'},\n",
       " '1240': {'description': 'Action, Sci-Fi, Thriller, Action, artificial intelligence, future, time travel, imdb top 250, arnold, Arnold Schwarzenegger, classic, cyborgs, dystopic future, highly quotable, robots',\n",
       "  'name': 'Terminator, The (1984)'},\n",
       " '2571': {'description': 'Action, Sci-Fi, Thriller, alternate reality, artificial intelligence, cyberpunk, dystopia, philosophical, philosophy, sci-fi, virtual reality, Futuristic, post apocalyptic, surreal, thought-provoking',\n",
       "  'name': 'Matrix, The (1999)'},\n",
       " '8874': {'description': 'Comedy, Horror, Simon Pegg, Very British and very funny!, zombies, black comedy, British, british comedy, comedy, dark comedy, dark humor, Edgar Wright, funny, hilarious',\n",
       "  'name': 'Shaun of the Dead (2004)'},\n",
       " '46972': {'description': \"Action, Comedy, Fantasy, IMAX, based on children's book, chaos, dinosaur, duringcreditsstinger, genghis khan, inanimate objects coming to life, magical object, maya civilization, museum, natural history, night shift, security guard\",\n",
       "  'name': 'Night at the Museum (2006)'},\n",
       " '51255': {'description': 'Action, Comedy, Crime, Mystery, Nick Frost, Simon Pegg, parody, surreal, action, action spoof, black comedy, british comedy, buddy movie, comedy, dark comedy, funny',\n",
       "  'name': 'Hot Fuzz (2007)'},\n",
       " '61132': {'description': 'Action, Adventure, Comedy, War, parody, Robert Downey Jr., satire, satire:Hollywood insiders, confused reality, insanity, Ben Stiller, fake trailers, funny, Jack Black, jungle, movie within a movie',\n",
       "  'name': 'Tropic Thunder (2008)'},\n",
       " '109487': {'description': 'Sci-Fi, IMAX, good science, Hans Zimmer, philosophical issues, sci-fi, science fiction, space, space travel, time-travel, visually appealing, interesting ideea, original, sentimental',\n",
       "  'name': 'Interstellar (2014)'}}"
      ]
     },
     "execution_count": 28,
     "metadata": {},
     "output_type": "execute_result"
    }
   ],
   "source": [
    "with open(\"./data/movielens_2.json\", \"r\") as movie_file:\n",
    "    movie_data = json.load(movie_file)\n",
    "movie_data"
   ]
  },
  {
   "cell_type": "code",
   "execution_count": 50,
   "metadata": {},
   "outputs": [],
   "source": [
    "# Modify the past aspects\n",
    "pe_module.aspects = [\n",
    "    {'aspect_key': 'genre', 'aspect_value': 'sci-fi'},\n",
    "    {'aspect_key': 'atmosphere', 'aspect_value': 'tense'},\n",
    "    {'aspect_key': 'subgenre', 'aspect_value': 'horror/sci-fi'},\n",
    "    {'aspect_key': 'subgenre', 'aspect_value': 'sci-fi/horror'},\n",
    "    {'aspect_key': 'subgenre', 'aspect_value': 'sci-fi/thriller'},\n",
    "    {'aspect_key': 'subgenre', 'aspect_value': 'sci-fi/horror/thriller'},\n",
    "    {'aspect_key': 'imdb rating', 'aspect_value': 'top 250'},\n",
    "    {'aspect_key': 'subgenre', 'aspect_value': 'sci-fi/horror/thriller'}, # gets stuck on this.\n",
    "]\n",
    "\n",
    "# pe_module.aspects = []"
   ]
  },
  {
   "cell_type": "code",
   "execution_count": 51,
   "metadata": {},
   "outputs": [
    {
     "name": "stdout",
     "output_type": "stream",
     "text": [
      "{'aspect_key': 'subgenre', 'aspect_value': 'sci-fi/horror/thriller'}\n"
     ]
    }
   ],
   "source": [
    "item_desc = movie_data['1214']['description']\n",
    "aspect_dict = pe_module.get_aspect(item_desc)\n",
    "print(aspect_dict)"
   ]
  },
  {
   "cell_type": "markdown",
   "metadata": {},
   "source": [
    "### Alien Results\n",
    "\n",
    "Description: Horror, Sci-Fi, imdb top 250, aliens, sci-fi, suspense, thriller, tense, horror, atmospheric, outer space, space, space travel, suspenseful\n",
    "\n",
    "| Key | Value |\n",
    "| --- | ----- |\n",
    "| genre | sci-fi |\n",
    "| atmosphere | tense |\n",
    "| subgenre | horror/sci-fi |\n",
    "| subgenre | sci-fi/horror |\n",
    "| subgenre | sci-fi/thriller |\n",
    "| subgenre | sci-fi/horror/thriller |\n",
    "| imdb rating | top 250 |\n",
    "| subgenre | sci-fi/horror/thriller |\n"
   ]
  },
  {
   "cell_type": "code",
   "execution_count": 52,
   "metadata": {},
   "outputs": [
    {
     "name": "stdout",
     "output_type": "stream",
     "text": [
      "{'1214': 0.000979631207883358, '1240': 0.0001037165493471548, '2571': 0.0015366912120953202, '8874': 0.7904435992240906, '46972': 0.2049161195755005, '51255': 0.8564907312393188, '61132': 0.34490057826042175, '109487': 0.0001463112566852942}\n"
     ]
    }
   ],
   "source": [
    "aspect_str = \"genre: comedy\"\n",
    "\n",
    "like_probs = scorer.score_items(aspect_str, movie_data)\n",
    "print(like_probs)"
   ]
  }
 ],
 "metadata": {
  "kernelspec": {
   "display_name": "llm-pe",
   "language": "python",
   "name": "python3"
  },
  "language_info": {
   "codemirror_mode": {
    "name": "ipython",
    "version": 3
   },
   "file_extension": ".py",
   "mimetype": "text/x-python",
   "name": "python",
   "nbconvert_exporter": "python",
   "pygments_lexer": "ipython3",
   "version": "3.9.18"
  }
 },
 "nbformat": 4,
 "nbformat_minor": 2
}
