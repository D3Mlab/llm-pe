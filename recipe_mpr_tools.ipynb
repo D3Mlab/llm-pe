{
 "cells": [
  {
   "cell_type": "code",
   "execution_count": 1,
   "metadata": {},
   "outputs": [],
   "source": [
    "import pandas\n",
    "import json\n",
    "import numpy as np"
   ]
  },
  {
   "cell_type": "code",
   "execution_count": 2,
   "metadata": {},
   "outputs": [],
   "source": [
    "base_data_path = \"/Users/david/Documents/Research2324/Sanner/data/500QA.json\""
   ]
  },
  {
   "cell_type": "code",
   "execution_count": 11,
   "metadata": {},
   "outputs": [],
   "source": [
    "# Load in recipe-mpr 500QA\n",
    "with open(base_data_path) as base_data_file:\n",
    "    base_data = json.load(base_data_file)"
   ]
  },
  {
   "cell_type": "code",
   "execution_count": 21,
   "metadata": {},
   "outputs": [
    {
     "data": {
      "text/plain": [
       "{0: {'description': 'Soup made with cabbage, carrots, potatoes, and onions'},\n",
       " 1: {'description': '2-ingredient yogurt from scratch'},\n",
       " 2: {'description': 'High protein skillet with rice and vegetables'},\n",
       " 3: {'description': 'Chinese salad made of eggplant and zucchini, flavoured with soy sauce'},\n",
       " 4: {'description': 'Large portion fries with gravy and bacon'},\n",
       " 5: {'description': 'Beef stew made with beef, carrots and potatoes'},\n",
       " 6: {'description': 'Grilled salmon seasoned with salt and pepper'},\n",
       " 7: {'description': 'Poke of tofu, mushroom and tomatoes'},\n",
       " 8: {'description': 'Queso made from melted cheese and chili peppers'},\n",
       " 9: {'description': 'Low fat baked breakfast pie made with sausage (pork) and apples'},\n",
       " 10: {'description': 'Chicken breasts stuffed with bacon and mozzarella'},\n",
       " 11: {'description': 'Chopped French duck confit preserved by duck oil'},\n",
       " 12: {'description': 'Spaghetti using year round egg catsup noodles, made with sauce consisting of ground beef meat, bacon (pork) meat, cheddar cheese, parmesan, and tomatoes.'},\n",
       " 13: {'description': 'Smoothie made from fruit juice and bananas'},\n",
       " 14: {'description': 'Low sugar applesauce cupcakes'},\n",
       " 15: {'description': 'Soup made with ground turkey that is low fat, high carb'},\n",
       " 16: {'description': 'Creamy base with dill flavoring, eggs, and noodles'},\n",
       " 17: {'description': 'Garlic bread with cheddar, green onions, and mayonnaise'},\n",
       " 18: {'description': 'Soup made with shrimp, onions, and scallops'},\n",
       " 19: {'description': 'Meatloaf made with ground beef meat, sauce made with salsa, ready-to-serve delallo, italian seasoned breadcrumbs, and salsa'},\n",
       " 20: {'description': 'Low fat sweet potato fries made with cajun seasoning'},\n",
       " 21: {'description': 'Very low-fat assortment of shredded vegetables with seasoning'},\n",
       " 22: {'description': 'Dog food made from pork, green beans, cheddar cheese and brown rice'},\n",
       " 23: {'description': 'Sugar-free peanut butter cookies'},\n",
       " 24: {'description': 'Jam made from blackberries, lemon juice, and sugar'},\n",
       " 25: {'description': 'Noodles made with egg with a mixture of turkey, bacon, chicken broth, and seasoned'},\n",
       " 26: {'description': 'Mildly spicy chili recipe'},\n",
       " 27: {'description': 'Baked pumpkin dessert pie filled with a sweet pumpkin spice based custard'},\n",
       " 28: {'description': 'South African vegetable curry flavoured with curry powder and ground tumeric'},\n",
       " 29: {'description': 'Baked breakfast bars made with nuts and seeds'},\n",
       " 30: {'description': 'Assorted cheese soup with chicken'},\n",
       " 31: {'description': 'High protein pizza made with whole wheat pizza crusts, cheese, onions, and tofu'},\n",
       " 32: {'description': 'Cheese and olive appetizer made to look like an eyeball'},\n",
       " 33: {'description': 'Bread made swiss style with swiss cheese'},\n",
       " 34: {'description': 'Salmon fillets grilled in a pan with herbs and spices'},\n",
       " 35: {'description': 'Soup made from onions, carrots, and celery ribs'},\n",
       " 36: {'description': 'Sandwich made with: grilled / broiled marinated chicken'},\n",
       " 37: {'description': 'Chocolate and orange-flavoured smoothie'},\n",
       " 38: {'description': 'Slushie drink made from orange juice blended with ice'},\n",
       " 39: {'description': 'Cheesecake made with cream cheese'},\n",
       " 40: {'description': 'Fried shrimp and scallops'},\n",
       " 41: {'description': 'Pork cooked with onions, peppers, pineapple chunks, ketchup, karo syrup, and cider vinegar'},\n",
       " 42: {'description': 'Salmon roasted with olive oil, chives, and tarragon leaves'},\n",
       " 43: {'description': 'Norway cake with lingonberry and whipped cream layers'},\n",
       " 44: {'description': 'Spaghetti noodles with mussels, anchovy fillets, and capers'},\n",
       " 45: {'description': 'Apple pie made with apples, cinnamon, sugar, butter, and premade shell and crust'},\n",
       " 46: {'description': 'Simple creamy oyster soup'},\n",
       " 47: {'description': 'Shredded barbecued pork shoulder'},\n",
       " 48: {'description': 'Ramen noodles made from scratch made with: wheat flour, baking soda, and water'},\n",
       " 49: {'description': 'Beef chili containing jalapeno pepper, chili powder, cayenne pepper, and ground chipotle chile pepper'},\n",
       " 50: {'description': 'Oreo pie made with oreo cookies, butter, milk, and a tub of Cool Whip'},\n",
       " 51: {'description': 'Italian salad made from romain lettuce, artichokes, and tomatoes'},\n",
       " 52: {'description': 'Subway-style sandwich made from french baguette bread, ham, lettuce, and tomatoes'},\n",
       " 53: {'description': 'Low fat smoothies made with greek yogurt, and pineapple'},\n",
       " 54: {'description': 'French chocolate cake made from chocolate baking squares, strong coffee, butter, and brown sugar'},\n",
       " 55: {'description': 'Baked spinach quiche containing bacon'},\n",
       " 56: {'description': 'Sticky rice wrapped pork shoulder for Chinese dragon boat festival'},\n",
       " 57: {'description': 'Beef lasagna with whole wheat noodles, low-fat cottage cheese, and part-skim mozzarella cheese'},\n",
       " 58: {'description': 'Peppermint chocolate bonbon'},\n",
       " 59: {'description': 'Peach cobbler dessert containing whole wheat flour'},\n",
       " 60: {'description': 'Pork chops glazed with milk and cooked without nuts'},\n",
       " 61: {'description': 'Classic salad with creamy caesar dressing and croutons'},\n",
       " 62: {'description': 'Soup made with vegetables and chicken'},\n",
       " 63: {'description': 'Chicken cooked and flavored with lemon sauce'},\n",
       " 64: {'description': 'Berry cobbler that uses frozen mixed berries'},\n",
       " 65: {'description': 'Sweet salad made with corn and three types of beans'},\n",
       " 66: {'description': 'Breakfast egg, bean, and cheese burrito with jalapeno peppers'},\n",
       " 67: {'description': 'Caesar salad with cooked chicken, lettuce, tomatoes, croutons, and cheese'},\n",
       " 68: {'description': 'Roast turkey with plum sauce'},\n",
       " 69: {'description': 'Calcium-rich soup made with broccoli and beans'},\n",
       " 70: {'description': 'Gluten-free, egg-free, dairy-free, nut-free fudge'},\n",
       " 71: {'description': 'Almonds coated with butter and salt'},\n",
       " 72: {'description': 'Grilled squash, zucchinis, tomatoes and mushrooms seasoned with balsamic vinegar and herbs'},\n",
       " 73: {'description': 'Taiwanese deep fried crispy chicken cutlets'},\n",
       " 74: {'description': 'Roast beef sandwich with mozzarella, banana pepper rings and romaine lettuce'},\n",
       " 75: {'description': 'Milkshake made with fresh strawberries and ice cream'},\n",
       " 76: {'description': 'Cheese with crackers'},\n",
       " 77: {'description': 'Spaghetti with mushrooms, onion, green pepper, chicken breasts, and alfredo sauce'},\n",
       " 78: {'description': 'Low fat diced baked or fried potatoes'},\n",
       " 79: {'description': 'Low-fat coconut alcohol-free cocktail'},\n",
       " 80: {'description': 'Korean soup containing beef brisket and flavoured with red pepper powder'},\n",
       " 81: {'description': 'Salad made from 5 fruits: oranges, strawberries, blackberries, grapes, and pears'},\n",
       " 82: {'description': 'Cheese and vegetable soup with a beer broth'},\n",
       " 83: {'description': 'Polish sausage with fermented cabbage'},\n",
       " 84: {'description': 'Digestion-friendly waffles'},\n",
       " 85: {'description': 'Lemon loaf made with flour, baking powder, salt, shortening, sugar, eggs, lemons, milk'},\n",
       " 86: {'description': 'Spanish rice with chicken breast'},\n",
       " 87: {'description': 'Vegan macaroni pasta with frozen peas, olive oil, nutritional yeast, and seasoning'},\n",
       " 88: {'description': 'Stir-fried tofu, noodles and vegetables Bento'},\n",
       " 89: {'description': 'Roasted almonds'},\n",
       " 90: {'description': 'Hot pot that is not spicy'},\n",
       " 91: {'description': 'Homemade soup with chicken, noodles, and spices'},\n",
       " 92: {'description': 'Mushy peas that are soft'},\n",
       " 93: {'description': 'Smoothie made from banana puree with milk'},\n",
       " 94: {'description': 'Low fat assorted fruit dessert'},\n",
       " 95: {'description': 'Eggless sauerkraut cake'},\n",
       " 96: {'description': 'Banana bread made with whole wheat flour and walnuts'},\n",
       " 97: {'description': 'Baked mozzarella cheese sticks with marinara sauce'},\n",
       " 98: {'description': 'Mozzarella dip recipe'},\n",
       " 99: {'description': 'Meatballs made with ground beef and ground pork'}}"
      ]
     },
     "execution_count": 21,
     "metadata": {},
     "output_type": "execute_result"
    }
   ],
   "source": [
    "# Randomly select 100 items\n",
    "np.random.seed(42)\n",
    "keep_indices = list(np.random.choice(range(len(base_data)), size=(100,), replace=False))\n",
    "items_100_dict = {}\n",
    "for i in range(100):\n",
    "    item_data = base_data[keep_indices[i]]\n",
    "    items_100_dict[i] = {'description': item_data['options'][item_data['answer']]}\n",
    "items_100_dict"
   ]
  },
  {
   "cell_type": "code",
   "execution_count": 23,
   "metadata": {},
   "outputs": [],
   "source": [
    "# Save 100 random items to file\n",
    "save_file_100_items = \"data/recipe_100_sample.json\"\n",
    "with open(save_file_100_items, \"w\") as save_file:\n",
    "    json.dump(items_100_dict, save_file) "
   ]
  }
 ],
 "metadata": {
  "kernelspec": {
   "display_name": "llm-pe",
   "language": "python",
   "name": "python3"
  },
  "language_info": {
   "codemirror_mode": {
    "name": "ipython",
    "version": 3
   },
   "file_extension": ".py",
   "mimetype": "text/x-python",
   "name": "python",
   "nbconvert_exporter": "python",
   "pygments_lexer": "ipython3",
   "version": "3.9.18"
  }
 },
 "nbformat": 4,
 "nbformat_minor": 2
}
