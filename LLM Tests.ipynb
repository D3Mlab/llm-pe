{
 "cells": [
  {
   "cell_type": "code",
   "execution_count": 27,
   "id": "3ad6d1b4-f83f-4268-b2b2-e355e3150e40",
   "metadata": {},
   "outputs": [],
   "source": [
    "import os\n",
    "import tiktoken\n",
    "import openai\n",
    "import jinja2\n",
    "API_KEY = os.environ['OPENAI_API_KEY']\n",
    "openai.api_key = API_KEY"
   ]
  },
  {
   "cell_type": "code",
   "execution_count": 28,
   "id": "ea96ea33-cba9-4f62-a034-16fedc29bf0c",
   "metadata": {},
   "outputs": [],
   "source": [
    "#jinja setup\n",
    "jinja_env = jinja2.Environment(loader=jinja2.FileSystemLoader(searchpath=\"./templates\"))"
   ]
  },
  {
   "cell_type": "code",
   "execution_count": 77,
   "id": "92e9ff60-0ea4-4bdd-bba0-27ca7bd674f0",
   "metadata": {},
   "outputs": [],
   "source": [
    "#set template\n",
    "template_file = \"concat_pref_query.jinja2\"\n",
    "query_template = jinja_env.get_template(template_file)"
   ]
  },
  {
   "cell_type": "code",
   "execution_count": 80,
   "id": "f643f52f-eed9-48e0-90d8-32e1e6885495",
   "metadata": {},
   "outputs": [],
   "source": [
    "context = {\n",
    "                \"item_desc\": \"Men's Black Shoes\",\n",
    "                \"preference\": [{'query':'Are you looking for a t-shirt?', 'response':'no'}]\n",
    "            }\n",
    "prompt = query_template.render(context)"
   ]
  },
  {
   "cell_type": "code",
   "execution_count": 81,
   "id": "fba59299-8b43-462d-96c5-8457fd54961e",
   "metadata": {},
   "outputs": [
    {
     "data": {
      "text/plain": [
       "\"\\nYou must determine whether or not a user will like an item based on a description of the item and \\nthe user's response to a query. Your answer can only be true or false.\\n\\n''''\\nExample 1:\\n####\\nQuery: Do you care about fuel mileage? \\nResponse: No\\n####\\nThe item has this description:\\nDescription: This is a grey four-door sedan that focuses on fuel efficiency and low budget.\\n####\\nIs the following statement true or false: This user will like this item. Answer only with True or False.\\nYour response: False\\n''''\\n\\n''''\\nExample 2:\\n####\\nQuery: Do you want an electric guitar?\\nResponse: Yes\\n####\\nThe item has this description:\\nDescription: Gibson electric guitar with two humbucker pickups and a hollow body shape. Colour: Crimson\\n####\\nIs the following statement true or false: This user will like this item. Answer only with True or False.\\nYour response: True\\n''''\\n\\nA user has the following past interactions:\\n####\\n[{'query': 'Are you looking for a t-shirt?', 'response': 'no'}]\\n####\\nThe item has this description:\\nDescription: Men's Black Shoes\\n####\\nIs the following statement true or false: This user will like this item. Answer only with True or False.\\nYour response: \""
      ]
     },
     "execution_count": 81,
     "metadata": {},
     "output_type": "execute_result"
    }
   ],
   "source": [
    "prompt"
   ]
  },
  {
   "cell_type": "code",
   "execution_count": 109,
   "id": "42979207-2d51-4dbe-ac98-7f333ada5845",
   "metadata": {
    "scrolled": true
   },
   "outputs": [
    {
     "name": "stdout",
     "output_type": "stream",
     "text": [
      "False\n"
     ]
    }
   ],
   "source": [
    "#chat completions response\n",
    "cc_response = openai.ChatCompletion.create(\n",
    "  model=\"gpt-3.5-turbo-1106\",\n",
    "  messages=[\n",
    "    {\"role\": \"system\", \"content\": \"You are a helpful assistant.\"},\n",
    "    {\"role\": \"user\", \"content\": '''\n",
    "    ASDFADujaubiubiusadfuhigaiubajsdf. Reply only True or False\n",
    "    '''\n",
    "    }\n",
    "  ],\n",
    "  temperature = 1,\n",
    "  logprobs = True,\n",
    "  top_logprobs = 2\n",
    ")\n",
    "print(cc_response.choices[0].message.content)"
   ]
  },
  {
   "cell_type": "code",
   "execution_count": 180,
   "id": "f9c4fc64-a7be-4320-921e-3e0850b4467f",
   "metadata": {},
   "outputs": [
    {
     "data": {
      "text/plain": [
       "<OpenAIObject at 0x235c2ee3100> JSON: {\n",
       "  \"content\": [\n",
       "    {\n",
       "      \"bytes\": [\n",
       "        84,\n",
       "        114,\n",
       "        117,\n",
       "        101\n",
       "      ],\n",
       "      \"logprob\": -0.011451784,\n",
       "      \"token\": \"True\",\n",
       "      \"top_logprobs\": [\n",
       "        {\n",
       "          \"bytes\": [\n",
       "            84,\n",
       "            114,\n",
       "            117,\n",
       "            101\n",
       "          ],\n",
       "          \"logprob\": -0.011451784,\n",
       "          \"token\": \"True\"\n",
       "        },\n",
       "        {\n",
       "          \"bytes\": [\n",
       "            70,\n",
       "            97,\n",
       "            108,\n",
       "            115,\n",
       "            101\n",
       "          ],\n",
       "          \"logprob\": -4.4778748,\n",
       "          \"token\": \"False\"\n",
       "        },\n",
       "        {\n",
       "          \"bytes\": [\n",
       "            32,\n",
       "            84,\n",
       "            114,\n",
       "            117,\n",
       "            101\n",
       "          ],\n",
       "          \"logprob\": -11.6283245,\n",
       "          \"token\": \" True\"\n",
       "        }\n",
       "      ]\n",
       "    }\n",
       "  ]\n",
       "}"
      ]
     },
     "execution_count": 180,
     "metadata": {},
     "output_type": "execute_result"
    }
   ],
   "source": [
    "cc_response.choices[0]['logprobs']"
   ]
  },
  {
   "cell_type": "code",
   "execution_count": 92,
   "id": "f3691278-e880-4a60-b291-edfa8c01fdf6",
   "metadata": {},
   "outputs": [],
   "source": [
    "c_response = openai.Completion.create(\n",
    "            model= \"gpt-3.5-turbo-instruct\",\n",
    "            temperature=0.0,\n",
    "            prompt=prompt,\n",
    "            logprobs=2,\n",
    "        )"
   ]
  },
  {
   "cell_type": "code",
   "execution_count": 93,
   "id": "1a338782-7a49-4af4-98c2-2909a2a3a8ac",
   "metadata": {},
   "outputs": [
    {
     "data": {
      "text/plain": [
       "<OpenAIObject at 0x235c4bb3d80> JSON: {\n",
       "  \"text_offset\": [\n",
       "    1166\n",
       "  ],\n",
       "  \"token_logprobs\": [\n",
       "    -0.42924747\n",
       "  ],\n",
       "  \"tokens\": [\n",
       "    \" False\"\n",
       "  ],\n",
       "  \"top_logprobs\": [\n",
       "    {\n",
       "      \" False\": -0.42924747,\n",
       "      \"False\": -1.4371935\n",
       "    }\n",
       "  ]\n",
       "}"
      ]
     },
     "execution_count": 93,
     "metadata": {},
     "output_type": "execute_result"
    }
   ],
   "source": [
    "c_response['choices'][0]['logprobs']"
   ]
  },
  {
   "cell_type": "code",
   "execution_count": 94,
   "id": "11c1017e-6542-4c9a-baad-d55ba79c2969",
   "metadata": {},
   "outputs": [
    {
     "data": {
      "text/plain": [
       "<OpenAIObject text_completion id=cmpl-8WT5xQjO0j2lG0PgTfAgT00yty3qp at 0x235c2ed2ca0> JSON: {\n",
       "  \"choices\": [\n",
       "    {\n",
       "      \"finish_reason\": \"stop\",\n",
       "      \"index\": 0,\n",
       "      \"logprobs\": {\n",
       "        \"text_offset\": [\n",
       "          1166\n",
       "        ],\n",
       "        \"token_logprobs\": [\n",
       "          -0.42924747\n",
       "        ],\n",
       "        \"tokens\": [\n",
       "          \" False\"\n",
       "        ],\n",
       "        \"top_logprobs\": [\n",
       "          {\n",
       "            \" False\": -0.42924747,\n",
       "            \"False\": -1.4371935\n",
       "          }\n",
       "        ]\n",
       "      },\n",
       "      \"text\": \" False\"\n",
       "    }\n",
       "  ],\n",
       "  \"created\": 1702749029,\n",
       "  \"id\": \"cmpl-8WT5xQjO0j2lG0PgTfAgT00yty3qp\",\n",
       "  \"model\": \"gpt-3.5-turbo-instruct\",\n",
       "  \"object\": \"text_completion\",\n",
       "  \"usage\": {\n",
       "    \"completion_tokens\": 1,\n",
       "    \"prompt_tokens\": 263,\n",
       "    \"total_tokens\": 264\n",
       "  }\n",
       "}"
      ]
     },
     "execution_count": 94,
     "metadata": {},
     "output_type": "execute_result"
    }
   ],
   "source": [
    "c_response"
   ]
  }
 ],
 "metadata": {
  "kernelspec": {
   "display_name": "Python 3 (ipykernel)",
   "language": "python",
   "name": "python3"
  },
  "language_info": {
   "codemirror_mode": {
    "name": "ipython",
    "version": 3
   },
   "file_extension": ".py",
   "mimetype": "text/x-python",
   "name": "python",
   "nbconvert_exporter": "python",
   "pygments_lexer": "ipython3",
   "version": "3.10.11"
  }
 },
 "nbformat": 4,
 "nbformat_minor": 5
}
